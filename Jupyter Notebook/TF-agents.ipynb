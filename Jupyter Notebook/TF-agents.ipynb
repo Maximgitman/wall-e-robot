{
 "cells": [
  {
   "cell_type": "code",
   "execution_count": 1,
   "metadata": {},
   "outputs": [
    {
     "name": "stdout",
     "output_type": "stream",
     "text": [
      "Collecting tf-agents[reverb]\n",
      "  Using cached tf_agents-0.12.1-py3-none-any.whl (1.3 MB)\n",
      "Collecting tensorflow-probability>=0.16.0\n",
      "  Using cached tensorflow_probability-0.16.0-py2.py3-none-any.whl (6.3 MB)\n",
      "Requirement already satisfied: typing-extensions>=3.7.4.3 in /root/miniconda3/envs/rl-tf-agents/lib/python3.7/site-packages (from tf-agents[reverb]) (4.1.1)\n",
      "Collecting gin-config>=0.4.0\n",
      "  Using cached gin_config-0.5.0-py3-none-any.whl (61 kB)\n",
      "Requirement already satisfied: six>=1.10.0 in /root/miniconda3/envs/rl-tf-agents/lib/python3.7/site-packages (from tf-agents[reverb]) (1.16.0)\n",
      "Requirement already satisfied: wrapt>=1.11.1 in /root/miniconda3/envs/rl-tf-agents/lib/python3.7/site-packages (from tf-agents[reverb]) (1.12.1)\n",
      "Requirement already satisfied: pillow in /root/miniconda3/envs/rl-tf-agents/lib/python3.7/site-packages (from tf-agents[reverb]) (9.0.1)\n",
      "Requirement already satisfied: cloudpickle>=1.3 in /root/miniconda3/envs/rl-tf-agents/lib/python3.7/site-packages (from tf-agents[reverb]) (2.0.0)\n",
      "Requirement already satisfied: protobuf>=3.11.3 in /root/miniconda3/envs/rl-tf-agents/lib/python3.7/site-packages (from tf-agents[reverb]) (3.19.1)\n",
      "Requirement already satisfied: numpy>=1.13.3 in /root/miniconda3/envs/rl-tf-agents/lib/python3.7/site-packages (from tf-agents[reverb]) (1.21.5)\n",
      "Collecting gym>=0.17.0\n",
      "  Using cached gym-0.23.1-py3-none-any.whl\n",
      "Collecting absl-py>=0.6.1\n",
      "  Using cached absl_py-1.0.0-py3-none-any.whl (126 kB)\n",
      "Collecting pygame==2.1.0\n",
      "  Downloading pygame-2.1.0-cp37-cp37m-manylinux_2_17_x86_64.manylinux2014_x86_64.whl (18.3 MB)\n",
      "\u001b[K     |████████████████████████████████| 18.3 MB 29.4 MB/s eta 0:00:01\n",
      "\u001b[?25hCollecting tensorflow~=2.8.0\n",
      "  Downloading tensorflow-2.8.2-cp37-cp37m-manylinux2010_x86_64.whl (497.9 MB)\n",
      "\u001b[K     |████████████████████████████████| 497.9 MB 61 kB/s /s eta 0:00:01 394.9 MB 108.9 MB/s eta 0:00:01\n",
      "\u001b[?25hCollecting dm-reverb~=0.7.0\n",
      "  Downloading dm_reverb-0.7.3-cp37-cp37m-manylinux2010_x86_64.whl (6.4 MB)\n",
      "\u001b[K     |████████████████████████████████| 6.4 MB 76.0 MB/s eta 0:00:01\n",
      "\u001b[?25hCollecting portpicker\n",
      "  Using cached portpicker-1.5.0-py3-none-any.whl (14 kB)\n",
      "Collecting dm-tree\n",
      "  Downloading dm_tree-0.1.7-cp37-cp37m-manylinux_2_12_x86_64.manylinux2010_x86_64.whl (143 kB)\n",
      "\u001b[K     |████████████████████████████████| 143 kB 103.0 MB/s eta 0:00:01\n",
      "\u001b[?25hRequirement already satisfied: importlib-metadata>=4.10.0 in /root/miniconda3/envs/rl-tf-agents/lib/python3.7/site-packages (from gym>=0.17.0->tf-agents[reverb]) (4.11.3)\n",
      "Collecting gym-notices>=0.0.4\n",
      "  Using cached gym_notices-0.0.6-py3-none-any.whl (2.7 kB)\n",
      "Requirement already satisfied: zipp>=0.5 in /root/miniconda3/envs/rl-tf-agents/lib/python3.7/site-packages (from importlib-metadata>=4.10.0->gym>=0.17.0->tf-agents[reverb]) (3.7.0)\n",
      "Requirement already satisfied: setuptools in /root/miniconda3/envs/rl-tf-agents/lib/python3.7/site-packages (from tensorflow~=2.8.0->tf-agents[reverb]) (61.2.0)\n",
      "Collecting tensorflow-io-gcs-filesystem>=0.23.1\n",
      "  Using cached tensorflow_io_gcs_filesystem-0.26.0-cp37-cp37m-manylinux_2_12_x86_64.manylinux2010_x86_64.whl (2.4 MB)\n",
      "Requirement already satisfied: grpcio<2.0,>=1.24.3 in /root/miniconda3/envs/rl-tf-agents/lib/python3.7/site-packages (from tensorflow~=2.8.0->tf-agents[reverb]) (1.42.0)\n",
      "Collecting astunparse>=1.6.0\n",
      "  Using cached astunparse-1.6.3-py2.py3-none-any.whl (12 kB)\n",
      "Requirement already satisfied: h5py>=2.9.0 in /root/miniconda3/envs/rl-tf-agents/lib/python3.7/site-packages (from tensorflow~=2.8.0->tf-agents[reverb]) (2.10.0)\n",
      "Collecting flatbuffers>=1.12\n",
      "  Using cached flatbuffers-2.0-py2.py3-none-any.whl (26 kB)\n",
      "Collecting google-pasta>=0.1.1\n",
      "  Using cached google_pasta-0.2.0-py3-none-any.whl (57 kB)\n",
      "Collecting keras<2.9,>=2.8.0rc0\n",
      "  Using cached keras-2.8.0-py2.py3-none-any.whl (1.4 MB)\n",
      "Collecting termcolor>=1.1.0\n",
      "  Using cached termcolor-1.1.0-py3-none-any.whl\n",
      "Collecting opt-einsum>=2.3.2\n",
      "  Using cached opt_einsum-3.3.0-py3-none-any.whl (65 kB)\n",
      "Collecting keras-preprocessing>=1.1.1\n",
      "  Using cached Keras_Preprocessing-1.1.2-py2.py3-none-any.whl (42 kB)\n",
      "Collecting libclang>=9.0.1\n",
      "  Using cached libclang-14.0.1-py2.py3-none-manylinux1_x86_64.whl (14.5 MB)\n",
      "Collecting gast>=0.2.1\n",
      "  Using cached gast-0.5.3-py3-none-any.whl (19 kB)\n",
      "Collecting tensorboard<2.9,>=2.8\n",
      "  Using cached tensorboard-2.8.0-py3-none-any.whl (5.8 MB)\n",
      "Collecting tensorflow-estimator<2.9,>=2.8\n",
      "  Using cached tensorflow_estimator-2.8.0-py2.py3-none-any.whl (462 kB)\n",
      "Requirement already satisfied: wheel<1.0,>=0.23.0 in /root/miniconda3/envs/rl-tf-agents/lib/python3.7/site-packages (from astunparse>=1.6.0->tensorflow~=2.8.0->tf-agents[reverb]) (0.37.1)\n",
      "Collecting google-auth-oauthlib<0.5,>=0.4.1\n",
      "  Using cached google_auth_oauthlib-0.4.6-py2.py3-none-any.whl (18 kB)\n",
      "Requirement already satisfied: werkzeug>=0.11.15 in /root/miniconda3/envs/rl-tf-agents/lib/python3.7/site-packages (from tensorboard<2.9,>=2.8->tensorflow~=2.8.0->tf-agents[reverb]) (2.0.3)\n",
      "Collecting tensorboard-plugin-wit>=1.6.0\n",
      "  Using cached tensorboard_plugin_wit-1.8.1-py3-none-any.whl (781 kB)\n",
      "Requirement already satisfied: requests<3,>=2.21.0 in /root/miniconda3/envs/rl-tf-agents/lib/python3.7/site-packages (from tensorboard<2.9,>=2.8->tensorflow~=2.8.0->tf-agents[reverb]) (2.27.1)\n",
      "Requirement already satisfied: google-auth<3,>=1.6.3 in /root/miniconda3/envs/rl-tf-agents/lib/python3.7/site-packages (from tensorboard<2.9,>=2.8->tensorflow~=2.8.0->tf-agents[reverb]) (1.33.0)\n",
      "Collecting tensorboard-data-server<0.7.0,>=0.6.0\n",
      "  Using cached tensorboard_data_server-0.6.1-py3-none-manylinux2010_x86_64.whl (4.9 MB)\n",
      "Requirement already satisfied: markdown>=2.6.8 in /root/miniconda3/envs/rl-tf-agents/lib/python3.7/site-packages (from tensorboard<2.9,>=2.8->tensorflow~=2.8.0->tf-agents[reverb]) (3.3.4)\n",
      "Requirement already satisfied: cachetools<5.0,>=2.0.0 in /root/miniconda3/envs/rl-tf-agents/lib/python3.7/site-packages (from google-auth<3,>=1.6.3->tensorboard<2.9,>=2.8->tensorflow~=2.8.0->tf-agents[reverb]) (4.2.2)\n",
      "Requirement already satisfied: rsa<5,>=3.1.4 in /root/miniconda3/envs/rl-tf-agents/lib/python3.7/site-packages (from google-auth<3,>=1.6.3->tensorboard<2.9,>=2.8->tensorflow~=2.8.0->tf-agents[reverb]) (4.7.2)\n",
      "Requirement already satisfied: pyasn1-modules>=0.2.1 in /root/miniconda3/envs/rl-tf-agents/lib/python3.7/site-packages (from google-auth<3,>=1.6.3->tensorboard<2.9,>=2.8->tensorflow~=2.8.0->tf-agents[reverb]) (0.2.8)\n",
      "Collecting requests-oauthlib>=0.7.0\n",
      "  Using cached requests_oauthlib-1.3.1-py2.py3-none-any.whl (23 kB)\n",
      "Requirement already satisfied: pyasn1<0.5.0,>=0.4.6 in /root/miniconda3/envs/rl-tf-agents/lib/python3.7/site-packages (from pyasn1-modules>=0.2.1->google-auth<3,>=1.6.3->tensorboard<2.9,>=2.8->tensorflow~=2.8.0->tf-agents[reverb]) (0.4.8)\n",
      "Requirement already satisfied: charset-normalizer~=2.0.0 in /root/miniconda3/envs/rl-tf-agents/lib/python3.7/site-packages (from requests<3,>=2.21.0->tensorboard<2.9,>=2.8->tensorflow~=2.8.0->tf-agents[reverb]) (2.0.4)\n",
      "Requirement already satisfied: idna<4,>=2.5 in /root/miniconda3/envs/rl-tf-agents/lib/python3.7/site-packages (from requests<3,>=2.21.0->tensorboard<2.9,>=2.8->tensorflow~=2.8.0->tf-agents[reverb]) (3.3)\n",
      "Requirement already satisfied: certifi>=2017.4.17 in /root/miniconda3/envs/rl-tf-agents/lib/python3.7/site-packages (from requests<3,>=2.21.0->tensorboard<2.9,>=2.8->tensorflow~=2.8.0->tf-agents[reverb]) (2021.10.8)\n",
      "Requirement already satisfied: urllib3<1.27,>=1.21.1 in /root/miniconda3/envs/rl-tf-agents/lib/python3.7/site-packages (from requests<3,>=2.21.0->tensorboard<2.9,>=2.8->tensorflow~=2.8.0->tf-agents[reverb]) (1.26.9)\n",
      "Collecting oauthlib>=3.0.0\n",
      "  Using cached oauthlib-3.2.0-py3-none-any.whl (151 kB)\n",
      "Requirement already satisfied: decorator in /root/miniconda3/envs/rl-tf-agents/lib/python3.7/site-packages (from tensorflow-probability>=0.16.0->tf-agents[reverb]) (5.1.1)\n",
      "Requirement already satisfied: psutil in /root/miniconda3/envs/rl-tf-agents/lib/python3.7/site-packages (from portpicker->dm-reverb~=0.7.0->tf-agents[reverb]) (5.8.0)\n",
      "Installing collected packages: oauthlib, requests-oauthlib, tensorboard-plugin-wit, tensorboard-data-server, gym-notices, google-auth-oauthlib, gast, dm-tree, absl-py, termcolor, tensorflow-probability, tensorflow-io-gcs-filesystem, tensorflow-estimator, tensorboard, pygame, portpicker, opt-einsum, libclang, keras-preprocessing, keras, gym, google-pasta, gin-config, flatbuffers, astunparse, tf-agents, tensorflow, dm-reverb\n",
      "\u001b[33m  WARNING: The script google-oauthlib-tool is installed in '/root/.local/bin' which is not on PATH.\n",
      "  Consider adding this directory to PATH or, if you prefer to suppress this warning, use --no-warn-script-location.\u001b[0m\n",
      "\u001b[33m  WARNING: The script tensorboard is installed in '/root/.local/bin' which is not on PATH.\n",
      "  Consider adding this directory to PATH or, if you prefer to suppress this warning, use --no-warn-script-location.\u001b[0m\n",
      "\u001b[33m  WARNING: The scripts estimator_ckpt_converter, import_pb_to_tensorboard, saved_model_cli, tensorboard, tf_upgrade_v2, tflite_convert, toco and toco_from_protos are installed in '/root/.local/bin' which is not on PATH.\n",
      "  Consider adding this directory to PATH or, if you prefer to suppress this warning, use --no-warn-script-location.\u001b[0m\n",
      "\u001b[33m  WARNING: The script reverb_server is installed in '/root/.local/bin' which is not on PATH.\n",
      "  Consider adding this directory to PATH or, if you prefer to suppress this warning, use --no-warn-script-location.\u001b[0m\n",
      "Successfully installed absl-py-1.0.0 astunparse-1.6.3 dm-reverb-0.7.3 dm-tree-0.1.7 flatbuffers-2.0 gast-0.5.3 gin-config-0.5.0 google-auth-oauthlib-0.4.6 google-pasta-0.2.0 gym-0.23.1 gym-notices-0.0.6 keras-2.8.0 keras-preprocessing-1.1.2 libclang-14.0.1 oauthlib-3.2.0 opt-einsum-3.3.0 portpicker-1.5.0 pygame-2.1.0 requests-oauthlib-1.3.1 tensorboard-2.8.0 tensorboard-data-server-0.6.1 tensorboard-plugin-wit-1.8.1 tensorflow-2.8.2 tensorflow-estimator-2.8.0 tensorflow-io-gcs-filesystem-0.26.0 tensorflow-probability-0.16.0 termcolor-1.1.0 tf-agents-0.12.1\n",
      "\u001b[33mWARNING: Running pip as the 'root' user can result in broken permissions and conflicting behaviour with the system package manager. It is recommended to use a virtual environment instead: https://pip.pypa.io/warnings/venv\u001b[0m\n",
      "fatal: destination path 'agents' already exists and is not an empty directory.\n",
      "error: pathspec 'v0.12.0' did not match any file(s) known to git\n",
      "Collecting pyvirtualdisplay\n",
      "  Using cached PyVirtualDisplay-3.0-py3-none-any.whl (15 kB)\n",
      "Installing collected packages: pyvirtualdisplay\n",
      "Successfully installed pyvirtualdisplay-3.0\n",
      "\u001b[33mWARNING: Running pip as the 'root' user can result in broken permissions and conflicting behaviour with the system package manager. It is recommended to use a virtual environment instead: https://pip.pypa.io/warnings/venv\u001b[0m\n",
      "Collecting pyglet\n",
      "  Using cached pyglet-1.5.26-py3-none-any.whl (1.1 MB)\n",
      "Installing collected packages: pyglet\n",
      "Successfully installed pyglet-1.5.26\n",
      "\u001b[33mWARNING: Running pip as the 'root' user can result in broken permissions and conflicting behaviour with the system package manager. It is recommended to use a virtual environment instead: https://pip.pypa.io/warnings/venv\u001b[0m\n"
     ]
    }
   ],
   "source": [
    "!pip install --user tf-agents[reverb]\n",
    "\n",
    "# Use this tag get the matching examples and colabs.\n",
    "!git clone https://github.com/tensorflow/agents.git\n",
    "!cd agents\n",
    "!git checkout v0.12.0\n",
    "\n",
    "# !pip install 'imageio==2.4.0'\n",
    "!pip install pyvirtualdisplay\n",
    "# !pip install tf-agents[reverb]\n",
    "!pip install pyglet"
   ]
  },
  {
   "cell_type": "code",
   "execution_count": 45,
   "metadata": {},
   "outputs": [
    {
     "data": {
      "text/plain": [
       "[1, 0, 2]"
      ]
     },
     "execution_count": 45,
     "metadata": {},
     "output_type": "execute_result"
    }
   ],
   "source": [
    "import numpy as  np\n",
    "\n",
    "res = np.array([[1, 0, 0, 0, 1, 0, 0, 1, 0, 1, 1, 1],\n",
    "                [0, 0, 0, 1, 0, 1, 0, 0, 1, 1, 0, 0],\n",
    "                [1, 0, 0, 1, 1, 0, 1, 1, 0, 1, 1, 1],\n",
    "                [1, 1, 1, 0, 0, 1, 0, 1, 1, 0, 1, 1],\n",
    "                [1, 1, 1, 1, 0, 0, 0, 0, 0, 1, 1, 1],\n",
    "                [1, 1, 0, 1, 1, 0, 1, 0, 1, 1, 1, 1],\n",
    "                [0, 1, 1, 1, 0, 0, 1, 1, 0, 0, 1, 0],\n",
    "                [1, 0, 0, 1, 0, 1, 0, 0, 1, 1, 0, 1],\n",
    "                [0, 0, 0, 1, 1, 1, 1, 0, 1, 1, 1, 0],\n",
    "                [1, 0, 0, 0, 1, 1, 0, 0, 0, 0, 0, 1],\n",
    "                [0, 0, 0, 1, 0, 0, 0, 0, 1, 1, 1, 0]])\n",
    "\n",
    "\n",
    "def veiw_shot_list(res,x,y):\n",
    "    x, y = np.where(res[x-1:y+2,x-1:y+2] == 0)\n",
    "    path = np.array([(i,j) for i, j in zip(x, y)]) - (1,1)\n",
    "    steps = {\n",
    "            0: (0, 0),\n",
    "            2: (1, 0),   \n",
    "            1: (-1, 0),  \n",
    "            4: (0, 1),   \n",
    "            3: (0, -1),  \n",
    "        }\n",
    "    x_ = [[k for k in steps if (steps[k] == i).all()] for i in path]\n",
    "    return [i for j in x_ for i in j]\n",
    "\n",
    "veiw_shot_list(res,5,5)"
   ]
  },
  {
   "cell_type": "code",
   "execution_count": 47,
   "metadata": {},
   "outputs": [
    {
     "data": {
      "text/plain": [
       "1"
      ]
     },
     "execution_count": 47,
     "metadata": {},
     "output_type": "execute_result"
    }
   ],
   "source": [
    "res[6,6]"
   ]
  },
  {
   "cell_type": "code",
   "execution_count": 3,
   "metadata": {},
   "outputs": [
    {
     "name": "stdout",
     "output_type": "stream",
     "text": [
      "Collecting reverb\n",
      "  Using cached reverb-2.0.1.zip (3.4 kB)\n",
      "Building wheels for collected packages: reverb\n",
      "  Building wheel for reverb (setup.py) ... \u001b[?25ldone\n",
      "\u001b[?25h  Created wheel for reverb: filename=reverb-2.0.1-py3-none-any.whl size=3689 sha256=d14eb193022d33307e1e2cf6c18991549c608c6a7c9c42f43caab9925bb3cd22\n",
      "  Stored in directory: /root/.cache/pip/wheels/32/f5/10/f2e2651a09c36a5d000f4cc763058488a14918292d38c0de1e\n",
      "Successfully built reverb\n",
      "Installing collected packages: reverb\n",
      "Successfully installed reverb-2.0.1\n",
      "\u001b[33mWARNING: Running pip as the 'root' user can result in broken permissions and conflicting behaviour with the system package manager. It is recommended to use a virtual environment instead: https://pip.pypa.io/warnings/venv\u001b[0m\n"
     ]
    }
   ],
   "source": [
    "!pip install reverb"
   ]
  },
  {
   "cell_type": "code",
   "execution_count": 4,
   "metadata": {},
   "outputs": [
    {
     "ename": "SyntaxError",
     "evalue": "invalid syntax (reverb.py, line 64)",
     "output_type": "error",
     "traceback": [
      "Traceback \u001b[0;36m(most recent call last)\u001b[0m:\n",
      "  File \u001b[1;32m\"/root/miniconda3/envs/rl-tf-agents/lib/python3.7/site-packages/IPython/core/interactiveshell.py\"\u001b[0m, line \u001b[1;32m3457\u001b[0m, in \u001b[1;35mrun_code\u001b[0m\n    exec(code_obj, self.user_global_ns, self.user_ns)\n",
      "\u001b[0;36m  File \u001b[0;32m\"/tmp/ipykernel_4080396/4234365312.py\"\u001b[0;36m, line \u001b[0;32m11\u001b[0;36m, in \u001b[0;35m<module>\u001b[0;36m\u001b[0m\n\u001b[0;31m    import reverb\u001b[0m\n",
      "\u001b[0;36m  File \u001b[0;32m\"/root/miniconda3/envs/rl-tf-agents/lib/python3.7/site-packages/reverb.py\"\u001b[0;36m, line \u001b[0;32m64\u001b[0m\n\u001b[0;31m    raise TypeError, 'Regexp cannot be negated'\u001b[0m\n\u001b[0m                   ^\u001b[0m\n\u001b[0;31mSyntaxError\u001b[0m\u001b[0;31m:\u001b[0m invalid syntax\n"
     ]
    }
   ],
   "source": [
    "from __future__ import absolute_import, division, print_function\n",
    "\n",
    "import base64\n",
    "import imageio\n",
    "import IPython\n",
    "import matplotlib\n",
    "import matplotlib.pyplot as plt\n",
    "import numpy as np\n",
    "import PIL.Image\n",
    "import pyvirtualdisplay\n",
    "import reverb\n",
    "\n",
    "import tensorflow as tf\n",
    "\n",
    "from tf_agents.agents.dqn import dqn_agent\n",
    "from tf_agents.drivers import py_driver\n",
    "from tf_agents.environments import suite_gym\n",
    "from tf_agents.environments import tf_py_environment\n",
    "from tf_agents.eval import metric_utils\n",
    "from tf_agents.metrics import tf_metrics\n",
    "from tf_agents.networks import sequential\n",
    "from tf_agents.policies import py_tf_eager_policy\n",
    "from tf_agents.policies import random_tf_policy\n",
    "from tf_agents.replay_buffers import reverb_replay_buffer\n",
    "from tf_agents.replay_buffers import reverb_utils\n",
    "from tf_agents.trajectories import trajectory\n",
    "from tf_agents.specs import tensor_spec\n",
    "from tf_agents.utils import common"
   ]
  },
  {
   "cell_type": "code",
   "execution_count": null,
   "metadata": {},
   "outputs": [],
   "source": [
    "# Set up a virtual display for rendering OpenAI gym environments.\n",
    "display = pyvirtualdisplay.Display(visible=0, size=(1400, 900)).start()"
   ]
  },
  {
   "cell_type": "code",
   "execution_count": null,
   "metadata": {},
   "outputs": [],
   "source": [
    "num_iterations = 20000 # @param {type:\"integer\"}\n",
    "\n",
    "initial_collect_steps = 100  # @param {type:\"integer\"}\n",
    "collect_steps_per_iteration =   1# @param {type:\"integer\"}\n",
    "replay_buffer_max_length = 100000  # @param {type:\"integer\"}\n",
    "\n",
    "batch_size = 64  # @param {type:\"integer\"}\n",
    "learning_rate = 1e-3  # @param {type:\"number\"}\n",
    "log_interval = 200  # @param {type:\"integer\"}\n",
    "\n",
    "num_eval_episodes = 10  # @param {type:\"integer\"}\n",
    "eval_interval = 1000  # @param {type:\"integer\"}"
   ]
  },
  {
   "cell_type": "code",
   "execution_count": null,
   "metadata": {},
   "outputs": [],
   "source": [
    "import gym\n",
    "from pogema.wrappers.multi_time_limit import MultiTimeLimit\n",
    "from pogema.animation import AnimationMonitor\n",
    "from IPython.display import SVG, display\n",
    "import numpy as np\n",
    "import pogema\n",
    "from pogema import GridConfig\n",
    "\n",
    "# Define random configuration\n",
    "grid_config = GridConfig(num_agents=3, # количество агентов на карте\n",
    "                         size=4,      # размеры карты\n",
    "                         density=0.4,  # плотность препятствий\n",
    "                         seed=1,       # сид генерации задания \n",
    "                         max_episode_steps=256,  # максимальная длина эпизода\n",
    "                         obs_radius=5, # радиус обзора\n",
    "                        )\n",
    "\n",
    "env = gym.make(\"Pogema-v0\", grid_config=grid_config)\n",
    "env = AnimationMonitor(env)\n",
    "\n",
    "# обновляем окружение\n",
    "obs = env.reset()\n",
    "\n",
    "done = [False, ...]\n",
    "\n",
    "while not all(done):\n",
    "    # Используем случайную стратегию\n",
    "    obs, reward, done, info = env.step([np.random.randint(4) for _ in range(len(obs))])\n",
    "# сохраняем анимацию и рисуем ее\n",
    "env.save_animation(\"render.svg\", egocentric_idx=1)\n",
    "display(SVG('render.svg'))"
   ]
  },
  {
   "cell_type": "code",
   "execution_count": null,
   "metadata": {},
   "outputs": [],
   "source": [
    "env_name = 'CartPole-v0'\n",
    "env = suite_gym.load(env_name)"
   ]
  },
  {
   "cell_type": "code",
   "execution_count": null,
   "metadata": {},
   "outputs": [],
   "source": []
  },
  {
   "cell_type": "code",
   "execution_count": null,
   "metadata": {},
   "outputs": [],
   "source": []
  },
  {
   "cell_type": "code",
   "execution_count": null,
   "metadata": {},
   "outputs": [],
   "source": []
  },
  {
   "cell_type": "code",
   "execution_count": null,
   "metadata": {},
   "outputs": [],
   "source": []
  },
  {
   "cell_type": "code",
   "execution_count": null,
   "metadata": {},
   "outputs": [],
   "source": []
  },
  {
   "cell_type": "code",
   "execution_count": null,
   "metadata": {},
   "outputs": [],
   "source": []
  }
 ],
 "metadata": {
  "interpreter": {
   "hash": "1af7fe51cc8030cd794019fa7211da97d8bc7ab7ae395653cc52e95f6e137dd8"
  },
  "kernelspec": {
   "display_name": "Python 3.8.13 ('rl')",
   "language": "python",
   "name": "python3"
  },
  "language_info": {
   "codemirror_mode": {
    "name": "ipython",
    "version": 3
   },
   "file_extension": ".py",
   "mimetype": "text/x-python",
   "name": "python",
   "nbconvert_exporter": "python",
   "pygments_lexer": "ipython3",
   "version": "3.8.13"
  },
  "orig_nbformat": 4
 },
 "nbformat": 4,
 "nbformat_minor": 2
}
