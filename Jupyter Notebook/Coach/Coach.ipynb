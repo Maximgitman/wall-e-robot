{
 "cells": [
  {
   "cell_type": "code",
   "execution_count": 1,
   "metadata": {},
   "outputs": [
    {
     "name": "stdout",
     "output_type": "stream",
     "text": [
      "\u001b[33mWARNING: Running pip as the 'root' user can result in broken permissions and conflicting behaviour with the system package manager. It is recommended to use a virtual environment instead: https://pip.pypa.io/warnings/venv\u001b[0m\n",
      "\u001b[31mERROR: pip's dependency resolver does not currently take into account all the packages that are installed. This behaviour is the source of the following dependency conflicts.\n",
      "pogema 1.0.1 requires gym>=0.18.3, but you have gym 0.12.5 which is incompatible.\u001b[0m\n",
      "\u001b[33mWARNING: Running pip as the 'root' user can result in broken permissions and conflicting behaviour with the system package manager. It is recommended to use a virtual environment instead: https://pip.pypa.io/warnings/venv\u001b[0m\n",
      "\u001b[33mWARNING: Running pip as the 'root' user can result in broken permissions and conflicting behaviour with the system package manager. It is recommended to use a virtual environment instead: https://pip.pypa.io/warnings/venv\u001b[0m\n",
      "Collecting gym==0.18.3\n",
      "  Using cached gym-0.18.3-py3-none-any.whl\n",
      "Requirement already satisfied: cloudpickle<1.7.0,>=1.2.0 in /root/miniconda3/envs/rl-coach/lib/python3.7/site-packages (from gym==0.18.3) (1.6.0)\n",
      "Requirement already satisfied: pyglet<=1.5.15,>=1.4.0 in /root/miniconda3/envs/rl-coach/lib/python3.7/site-packages (from gym==0.18.3) (1.5.15)\n",
      "Requirement already satisfied: numpy>=1.10.4 in /root/miniconda3/envs/rl-coach/lib/python3.7/site-packages (from gym==0.18.3) (1.21.5)\n",
      "Requirement already satisfied: Pillow<=8.2.0 in /root/miniconda3/envs/rl-coach/lib/python3.7/site-packages (from gym==0.18.3) (8.2.0)\n",
      "Requirement already satisfied: scipy in /root/miniconda3/envs/rl-coach/lib/python3.7/site-packages (from gym==0.18.3) (1.7.3)\n",
      "Installing collected packages: gym\n",
      "  Attempting uninstall: gym\n",
      "    Found existing installation: gym 0.12.5\n",
      "    Uninstalling gym-0.12.5:\n",
      "      Successfully uninstalled gym-0.12.5\n",
      "\u001b[31mERROR: pip's dependency resolver does not currently take into account all the packages that are installed. This behaviour is the source of the following dependency conflicts.\n",
      "rl-coach 1.0.0 requires gym==0.12.5, but you have gym 0.18.3 which is incompatible.\u001b[0m\n",
      "Successfully installed gym-0.18.3\n",
      "\u001b[33mWARNING: Running pip as the 'root' user can result in broken permissions and conflicting behaviour with the system package manager. It is recommended to use a virtual environment instead: https://pip.pypa.io/warnings/venv\u001b[0m\n"
     ]
    }
   ],
   "source": [
    "# !pip install -q tensorflow==1.15.0\n",
    "!pip install -q minio==5.0.6 #!!!!!!!!\n",
    "!pip install -q rl_coach==1.0.0\n",
    "!pip install -q exploration\n",
    "!pip install -q gym==0.18.3\n",
    "!pip install -q --quiet pogema"
   ]
  },
  {
   "cell_type": "code",
   "execution_count": 2,
   "metadata": {},
   "outputs": [
    {
     "name": "stdout",
     "output_type": "stream",
     "text": [
      "Found existing installation: gym 0.12.5\n",
      "Uninstalling gym-0.12.5:\n",
      "  Successfully uninstalled gym-0.12.5\n",
      "\u001b[33mWARNING: Running pip as the 'root' user can result in broken permissions and conflicting behaviour with the system package manager. It is recommended to use a virtual environment instead: https://pip.pypa.io/warnings/venv\u001b[0m\n",
      "Collecting gym==0.18.3\n",
      "  Using cached gym-0.18.3-py3-none-any.whl\n",
      "Requirement already satisfied: Pillow<=8.2.0 in /root/miniconda3/envs/rl-coach/lib/python3.7/site-packages (from gym==0.18.3) (8.2.0)\n",
      "Requirement already satisfied: scipy in /root/miniconda3/envs/rl-coach/lib/python3.7/site-packages (from gym==0.18.3) (1.7.3)\n",
      "Requirement already satisfied: cloudpickle<1.7.0,>=1.2.0 in /root/miniconda3/envs/rl-coach/lib/python3.7/site-packages (from gym==0.18.3) (1.6.0)\n",
      "Requirement already satisfied: numpy>=1.10.4 in /root/miniconda3/envs/rl-coach/lib/python3.7/site-packages (from gym==0.18.3) (1.21.5)\n",
      "Requirement already satisfied: pyglet<=1.5.15,>=1.4.0 in /root/miniconda3/envs/rl-coach/lib/python3.7/site-packages (from gym==0.18.3) (1.5.15)\n",
      "Installing collected packages: gym\n",
      "\u001b[31mERROR: pip's dependency resolver does not currently take into account all the packages that are installed. This behaviour is the source of the following dependency conflicts.\n",
      "rl-coach 1.0.0 requires gym==0.12.5, but you have gym 0.18.3 which is incompatible.\u001b[0m\n",
      "Successfully installed gym-0.18.3\n",
      "\u001b[33mWARNING: Running pip as the 'root' user can result in broken permissions and conflicting behaviour with the system package manager. It is recommended to use a virtual environment instead: https://pip.pypa.io/warnings/venv\u001b[0m\n"
     ]
    }
   ],
   "source": [
    "# !pip uninstall gym -y\n",
    "# # # !pip install gym==0.12.5\n",
    "# !pip install gym==0.18.3\n"
   ]
  },
  {
   "cell_type": "code",
   "execution_count": 2,
   "metadata": {},
   "outputs": [
    {
     "name": "stderr",
     "output_type": "stream",
     "text": [
      "/root/miniconda3/envs/rl-coach/lib/python3.7/site-packages/drawSvg/raster.py:18: RuntimeWarning: Failed to import CairoSVG. drawSvg will be unable to output PNG or other raster image formats. See https://github.com/cduck/drawSvg#prerequisites for more details.\n",
      "Original OSError: no library called \"cairo-2\" was found\n",
      "no library called \"cairo\" was found\n",
      "no library called \"libcairo-2\" was found\n",
      "cannot load library 'libcairo.so.2': libcairo.so.2: cannot open shared object file: No such file or directory\n",
      "cannot load library 'libcairo.2.dylib': libcairo.2.dylib: cannot open shared object file: No such file or directory\n",
      "cannot load library 'libcairo-2.dll': libcairo-2.dll: cannot open shared object file: No such file or directory\n",
      "  warnings.warn(msg, RuntimeWarning)\n"
     ]
    },
    {
     "name": "stdout",
     "output_type": "stream",
     "text": [
      "[0.0, 0.0, 0.0]\n",
      "[1.0, 0.0, 0.0]\n",
      "[0.0, 0.0, 0.0]\n",
      "[0.0, 0.0, 0.0]\n",
      "[0.0, 0.0, 0.0]\n",
      "[0.0, 0.0, 1.0]\n",
      "[0.0, 0.0, 0.0]\n",
      "[0.0, 1.0, 0.0]\n"
     ]
    },
    {
     "data": {
      "image/svg+xml": "<svg height=\"140\" viewBox=\"0 -1400 1400 1400\" width=\"140\" xmlns=\"http://www.w3.org/2000/svg\" xmlns:xlink=\"http://www.w3.org/1999/xlink\">\n<defs>\n</defs>\n<rect fill=\"#84A1AE\" height=\"70\" rx=\"15\" width=\"70\" x=\"415\" y=\"-485\"/>\n<rect fill=\"#84A1AE\" height=\"70\" rx=\"15\" width=\"70\" x=\"415\" y=\"-585\"/>\n<rect fill=\"#84A1AE\" height=\"70\" rx=\"15\" width=\"70\" x=\"415\" y=\"-685\"/>\n<rect fill=\"#84A1AE\" height=\"70\" rx=\"15\" width=\"70\" x=\"415\" y=\"-785\"/>\n<rect fill=\"#84A1AE\" height=\"70\" rx=\"15\" width=\"70\" x=\"415\" y=\"-885\"/>\n<rect fill=\"#84A1AE\" height=\"70\" rx=\"15\" width=\"70\" x=\"415\" y=\"-985\"/>\n<rect fill=\"#84A1AE\" height=\"70\" rx=\"15\" width=\"70\" x=\"515\" y=\"-485\"/>\n<rect fill=\"#84A1AE\" height=\"70\" rx=\"15\" width=\"70\" x=\"515\" y=\"-985\"/>\n<rect fill=\"#84A1AE\" height=\"70\" rx=\"15\" width=\"70\" x=\"615\" y=\"-485\"/>\n<rect fill=\"#84A1AE\" height=\"70\" rx=\"15\" width=\"70\" x=\"615\" y=\"-585\"/>\n<rect fill=\"#84A1AE\" height=\"70\" rx=\"15\" width=\"70\" x=\"615\" y=\"-885\"/>\n<rect fill=\"#84A1AE\" height=\"70\" rx=\"15\" width=\"70\" x=\"615\" y=\"-985\"/>\n<rect fill=\"#84A1AE\" height=\"70\" rx=\"15\" width=\"70\" x=\"715\" y=\"-485\"/>\n<rect fill=\"#84A1AE\" height=\"70\" rx=\"15\" width=\"70\" x=\"715\" y=\"-685\"/>\n<rect fill=\"#84A1AE\" height=\"70\" rx=\"15\" width=\"70\" x=\"715\" y=\"-785\"/>\n<rect fill=\"#84A1AE\" height=\"70\" rx=\"15\" width=\"70\" x=\"715\" y=\"-985\"/>\n<rect fill=\"#84A1AE\" height=\"70\" rx=\"15\" width=\"70\" x=\"815\" y=\"-485\"/>\n<rect fill=\"#84A1AE\" height=\"70\" rx=\"15\" width=\"70\" x=\"815\" y=\"-885\"/>\n<rect fill=\"#84A1AE\" height=\"70\" rx=\"15\" width=\"70\" x=\"815\" y=\"-985\"/>\n<rect fill=\"#84A1AE\" height=\"70\" rx=\"15\" width=\"70\" x=\"915\" y=\"-485\"/>\n<rect fill=\"#84A1AE\" height=\"70\" rx=\"15\" width=\"70\" x=\"915\" y=\"-585\"/>\n<rect fill=\"#84A1AE\" height=\"70\" rx=\"15\" width=\"70\" x=\"915\" y=\"-685\"/>\n<rect fill=\"#84A1AE\" height=\"70\" rx=\"15\" width=\"70\" x=\"915\" y=\"-785\"/>\n<rect fill=\"#84A1AE\" height=\"70\" rx=\"15\" width=\"70\" x=\"915\" y=\"-885\"/>\n<rect fill=\"#84A1AE\" height=\"70\" rx=\"15\" width=\"70\" x=\"915\" y=\"-985\"/>\n<circle cx=\"850\" cy=\"-650\" fill=\"#c1433c\" r=\"35\">\n<animate attributeName=\"cy\" dur=\"2.24s\" keyTimes=\"0.0;0.1111111111;0.2222222222;0.3333333333;1.0\" repeatCount=\"indefinite\" values=\"-650;-650;-650;-550;-550\"/>\n<animate attributeName=\"cx\" dur=\"2.24s\" keyTimes=\"0.0;0.1111111111;1.0\" repeatCount=\"indefinite\" values=\"850;850;850\"/>\n<animate attributeName=\"visibility\" dur=\"2.24s\" keyTimes=\"0.0;0.1111111111;0.2222222222;0.3333333333;1.0\" repeatCount=\"indefinite\" values=\"visible;visible;visible;hidden;hidden\"/>\n</circle>\n<circle cx=\"550\" cy=\"-650\" fill=\"#2e6f9e\" r=\"35\">\n<animate attributeName=\"cy\" dur=\"2.24s\" keyTimes=\"0.0;0.1111111111;0.2222222222;0.4444444444;0.5555555556;0.6666666667;0.7777777778;0.8888888889;1.0\" repeatCount=\"indefinite\" values=\"-650;-650;-750;-750;-650;-650;-750;-750;-850\"/>\n<animate attributeName=\"cx\" dur=\"2.24s\" keyTimes=\"0.0;0.1111111111;1.0\" repeatCount=\"indefinite\" values=\"550;550;550\"/>\n<animate attributeName=\"visibility\" dur=\"2.24s\" keyTimes=\"0.0;0.1111111111;0.8888888889;1.0\" repeatCount=\"indefinite\" values=\"visible;visible;visible;hidden\"/>\n</circle>\n<circle cx=\"850\" cy=\"-750\" fill=\"#6e81af\" r=\"35\">\n<animate attributeName=\"cy\" dur=\"2.24s\" keyTimes=\"0.0;0.1111111111;0.2222222222;0.3333333333;0.4444444444;0.5555555556;1.0\" repeatCount=\"indefinite\" values=\"-750;-750;-750;-650;-650;-550;-550\"/>\n<animate attributeName=\"cx\" dur=\"2.24s\" keyTimes=\"0.0;0.1111111111;0.6666666667;0.7777777778;1.0\" repeatCount=\"indefinite\" values=\"850;850;850;750;750\"/>\n<animate attributeName=\"visibility\" dur=\"2.24s\" keyTimes=\"0.0;0.1111111111;0.6666666667;0.7777777778;1.0\" repeatCount=\"indefinite\" values=\"visible;visible;visible;hidden;hidden\"/>\n</circle>\n<circle cx=\"850\" cy=\"-550\" fill=\"none\" r=\"35\" stroke=\"#c1433c\" stroke-width=\"10\">\n<animate attributeName=\"visibility\" dur=\"2.24s\" keyTimes=\"0.0;0.1111111111;0.2222222222;0.3333333333;1.0\" repeatCount=\"indefinite\" values=\"visible;visible;visible;hidden;hidden\"/>\n</circle>\n<circle cx=\"550\" cy=\"-850\" fill=\"none\" r=\"35\" stroke=\"#2e6f9e\" stroke-width=\"10\">\n<animate attributeName=\"visibility\" dur=\"2.24s\" keyTimes=\"0.0;0.1111111111;0.8888888889;1.0\" repeatCount=\"indefinite\" values=\"visible;visible;visible;hidden\"/>\n</circle>\n<circle cx=\"750\" cy=\"-550\" fill=\"none\" r=\"35\" stroke=\"#6e81af\" stroke-width=\"10\">\n<animate attributeName=\"visibility\" dur=\"2.24s\" keyTimes=\"0.0;0.1111111111;0.6666666667;0.7777777778;1.0\" repeatCount=\"indefinite\" values=\"visible;visible;visible;hidden;hidden\"/>\n</circle>\n</svg>",
      "text/plain": [
       "<IPython.core.display.SVG object>"
      ]
     },
     "metadata": {},
     "output_type": "display_data"
    }
   ],
   "source": [
    "import gym\n",
    "from pogema.wrappers.multi_time_limit import MultiTimeLimit\n",
    "from pogema.animation import AnimationMonitor\n",
    "from IPython.display import SVG, display\n",
    "import numpy as np\n",
    "import pogema\n",
    "from pogema import GridConfig\n",
    "\n",
    "# Define random configuration\n",
    "grid_config = GridConfig(num_agents=3, # количество агентов на карте\n",
    "                         size=4,      # размеры карты\n",
    "                         density=0.4,  # плотность препятствий\n",
    "                         seed=1,       # сид генерации задания \n",
    "                         max_episode_steps=256,  # максимальная длина эпизода\n",
    "                         obs_radius=5, # радиус обзора\n",
    "                        )\n",
    "\n",
    "env = gym.make(\"Pogema-v0\", grid_config=grid_config)\n",
    "env = AnimationMonitor(env)\n",
    "\n",
    "# # обновляем окружение\n",
    "obs = env.reset()\n",
    "\n",
    "done = [False, ...]\n",
    "\n",
    "while not all(done):\n",
    "    # Используем случайную стратегию\n",
    "    obs, reward, done, info = env.step([np.random.randint(4) for _ in range(len(obs))])\n",
    "    print(reward)\n",
    "# сохраняем анимацию и рисуем ее\n",
    "env.save_animation(\"render.svg\", egocentric_idx=None)\n",
    "display(SVG('render.svg'))"
   ]
  },
  {
   "cell_type": "code",
   "execution_count": 7,
   "metadata": {},
   "outputs": [],
   "source": [
    "import os\n",
    "import sys\n",
    "import tensorflow as tf\n",
    "module_path = os.path.abspath(os.path.join('..'))\n",
    "resources_path = os.path.abspath(os.path.join('Resources'))\n",
    "if module_path not in sys.path:\n",
    "    sys.path.append(module_path)\n",
    "if resources_path not in sys.path:\n",
    "    sys.path.append(resources_path)\n",
    "\n",
    "# env_params.level = \"rl_coach.environments.pogema.envs:Pogema-v0\""
   ]
  },
  {
   "cell_type": "code",
   "execution_count": 3,
   "metadata": {},
   "outputs": [],
   "source": [
    "from rl_coach.agents.dqn_agent import DQNAgentParameters\n",
    "from rl_coach.base_parameters import VisualizationParameters, TaskParameters\n",
    "from rl_coach.core_types import TrainingSteps, EnvironmentEpisodes, EnvironmentSteps\n",
    "from rl_coach.environments.gym_environment import GymVectorEnvironment\n",
    "from rl_coach.graph_managers.basic_rl_graph_manager import BasicRLGraphManager\n",
    "from rl_coach.graph_managers.graph_manager import ScheduleParameters\n",
    "from rl_coach.memories.memory import MemoryGranularity\n",
    "\n",
    "\n",
    "####################\n",
    "# Graph Scheduling #\n",
    "####################\n",
    "\n",
    "# Resetting tensorflow graph as the network has changed.\n",
    "# tf.reset_default_graph()\n",
    "\n",
    "schedule_params = ScheduleParameters()\n",
    "schedule_params.improve_steps = TrainingSteps(4000)\n",
    "schedule_params.steps_between_evaluation_periods = EnvironmentEpisodes(10)\n",
    "schedule_params.evaluation_steps = EnvironmentEpisodes(1)\n",
    "schedule_params.heatup_steps = EnvironmentSteps(1000)\n",
    "\n",
    "#########\n",
    "# Agent #\n",
    "#########\n",
    "agent_params = DQNAgentParameters()\n",
    "\n",
    "# DQN params\n",
    "agent_params.algorithm.num_steps_between_copying_online_weights_to_target = EnvironmentSteps(100)\n",
    "agent_params.algorithm.discount = 0.99\n",
    "agent_params.algorithm.num_consecutive_playing_steps = EnvironmentSteps(1)\n",
    "\n",
    "# NN configuration\n",
    "agent_params.network_wrappers['main'].learning_rate = 0.00025\n",
    "agent_params.network_wrappers['main'].replace_mse_with_huber_loss = False\n",
    "\n",
    "# ER size\n",
    "agent_params.memory.max_size = (MemoryGranularity.Transitions, 40000)\n",
    "\n",
    "################\n",
    "#  Environment #\n",
    "################\n",
    "# env_params = GymEnvironmentParameters()\n",
    "env_params = GymVectorEnvironment()\n",
    "env_params.level = env"
   ]
  },
  {
   "cell_type": "code",
   "execution_count": 15,
   "metadata": {},
   "outputs": [
    {
     "name": "stdout",
     "output_type": "stream",
     "text": [
      "\u001b[30;46mCreating graph - name: BasicRLGraphManager\u001b[0m\n"
     ]
    },
    {
     "ename": "Error",
     "evalue": "Attempted to look up malformed environment ID: b'<AnimationMonitor<MetricsWrapper<MultiTimeLimit<Pogema<Pogema-v0>>>>>'. (Currently all IDs must be of the form ^(?:[\\w:-]+\\/)?([\\w:.-]+)-v(\\d+)$.)",
     "output_type": "error",
     "traceback": [
      "\u001b[0;31m---------------------------------------------------------------------------\u001b[0m",
      "\u001b[0;31mError\u001b[0m                                     Traceback (most recent call last)",
      "\u001b[0;32m/tmp/ipykernel_3983200/1768993305.py\u001b[0m in \u001b[0;36m<module>\u001b[0;34m\u001b[0m\n\u001b[1;32m     16\u001b[0m \u001b[0mtask_parameters1\u001b[0m\u001b[0;34m.\u001b[0m\u001b[0mcheckpoint_save_secs\u001b[0m \u001b[0;34m=\u001b[0m \u001b[0;36m5\u001b[0m\u001b[0;34m\u001b[0m\u001b[0;34m\u001b[0m\u001b[0m\n\u001b[1;32m     17\u001b[0m \u001b[0;34m\u001b[0m\u001b[0m\n\u001b[0;32m---> 18\u001b[0;31m \u001b[0mgraph_manager\u001b[0m\u001b[0;34m.\u001b[0m\u001b[0mcreate_graph\u001b[0m\u001b[0;34m(\u001b[0m\u001b[0mtask_parameters1\u001b[0m\u001b[0;34m)\u001b[0m\u001b[0;34m\u001b[0m\u001b[0;34m\u001b[0m\u001b[0m\n\u001b[0m\u001b[1;32m     19\u001b[0m \u001b[0mgraph_manager\u001b[0m\u001b[0;34m.\u001b[0m\u001b[0mimprove\u001b[0m\u001b[0;34m(\u001b[0m\u001b[0;34m)\u001b[0m\u001b[0;34m\u001b[0m\u001b[0;34m\u001b[0m\u001b[0m\n",
      "\u001b[0;32m~/miniconda3/envs/rl-coach/lib/python3.7/site-packages/rl_coach/graph_managers/graph_manager.py\u001b[0m in \u001b[0;36mcreate_graph\u001b[0;34m(self, task_parameters)\u001b[0m\n\u001b[1;32m    146\u001b[0m \u001b[0;34m\u001b[0m\u001b[0m\n\u001b[1;32m    147\u001b[0m         \u001b[0;31m# create the graph modules\u001b[0m\u001b[0;34m\u001b[0m\u001b[0;34m\u001b[0m\u001b[0;34m\u001b[0m\u001b[0m\n\u001b[0;32m--> 148\u001b[0;31m         \u001b[0mself\u001b[0m\u001b[0;34m.\u001b[0m\u001b[0mlevel_managers\u001b[0m\u001b[0;34m,\u001b[0m \u001b[0mself\u001b[0m\u001b[0;34m.\u001b[0m\u001b[0menvironments\u001b[0m \u001b[0;34m=\u001b[0m \u001b[0mself\u001b[0m\u001b[0;34m.\u001b[0m\u001b[0m_create_graph\u001b[0m\u001b[0;34m(\u001b[0m\u001b[0mtask_parameters\u001b[0m\u001b[0;34m)\u001b[0m\u001b[0;34m\u001b[0m\u001b[0;34m\u001b[0m\u001b[0m\n\u001b[0m\u001b[1;32m    149\u001b[0m \u001b[0;34m\u001b[0m\u001b[0m\n\u001b[1;32m    150\u001b[0m         \u001b[0;31m# set self as the parent of all the level managers\u001b[0m\u001b[0;34m\u001b[0m\u001b[0;34m\u001b[0m\u001b[0;34m\u001b[0m\u001b[0m\n",
      "\u001b[0;32m~/miniconda3/envs/rl-coach/lib/python3.7/site-packages/rl_coach/graph_managers/basic_rl_graph_manager.py\u001b[0m in \u001b[0;36m_create_graph\u001b[0;34m(self, task_parameters)\u001b[0m\n\u001b[1;32m     62\u001b[0m         \u001b[0mself\u001b[0m\u001b[0;34m.\u001b[0m\u001b[0menv_params\u001b[0m\u001b[0;34m.\u001b[0m\u001b[0mexperiment_path\u001b[0m \u001b[0;34m=\u001b[0m \u001b[0mtask_parameters\u001b[0m\u001b[0;34m.\u001b[0m\u001b[0mexperiment_path\u001b[0m\u001b[0;34m\u001b[0m\u001b[0;34m\u001b[0m\u001b[0m\n\u001b[1;32m     63\u001b[0m         env = short_dynamic_import(self.env_params.path)(**self.env_params.__dict__,\n\u001b[0;32m---> 64\u001b[0;31m                                                          visualization_parameters=self.visualization_parameters)\n\u001b[0m\u001b[1;32m     65\u001b[0m \u001b[0;34m\u001b[0m\u001b[0m\n\u001b[1;32m     66\u001b[0m         \u001b[0;31m# agent loading\u001b[0m\u001b[0;34m\u001b[0m\u001b[0;34m\u001b[0m\u001b[0;34m\u001b[0m\u001b[0m\n",
      "\u001b[0;32m~/miniconda3/envs/rl-coach/lib/python3.7/site-packages/rl_coach/environments/gym_environment.py\u001b[0m in \u001b[0;36m__init__\u001b[0;34m(self, level, frame_skip, visualization_parameters, target_success_rate, additional_simulator_parameters, seed, human_control, custom_reward_threshold, random_initialization_steps, max_over_num_frames, observation_space_type, **kwargs)\u001b[0m\n\u001b[1;32m    283\u001b[0m                 \u001b[0;32mraise\u001b[0m\u001b[0;34m\u001b[0m\u001b[0;34m\u001b[0m\u001b[0m\n\u001b[1;32m    284\u001b[0m         \u001b[0;32melse\u001b[0m\u001b[0;34m:\u001b[0m\u001b[0;34m\u001b[0m\u001b[0;34m\u001b[0m\u001b[0m\n\u001b[0;32m--> 285\u001b[0;31m             \u001b[0mself\u001b[0m\u001b[0;34m.\u001b[0m\u001b[0menv\u001b[0m \u001b[0;34m=\u001b[0m \u001b[0mgym\u001b[0m\u001b[0;34m.\u001b[0m\u001b[0mmake\u001b[0m\u001b[0;34m(\u001b[0m\u001b[0mself\u001b[0m\u001b[0;34m.\u001b[0m\u001b[0menv_id\u001b[0m\u001b[0;34m)\u001b[0m\u001b[0;34m\u001b[0m\u001b[0;34m\u001b[0m\u001b[0m\n\u001b[0m\u001b[1;32m    286\u001b[0m \u001b[0;34m\u001b[0m\u001b[0m\n\u001b[1;32m    287\u001b[0m         \u001b[0;31m# for classic control we want to use the native renderer because otherwise we will get 2 renderer windows\u001b[0m\u001b[0;34m\u001b[0m\u001b[0;34m\u001b[0m\u001b[0;34m\u001b[0m\u001b[0m\n",
      "\u001b[0;32m~/miniconda3/envs/rl-coach/lib/python3.7/site-packages/gym/envs/registration.py\u001b[0m in \u001b[0;36mmake\u001b[0;34m(id, **kwargs)\u001b[0m\n\u001b[1;32m    143\u001b[0m \u001b[0;34m\u001b[0m\u001b[0m\n\u001b[1;32m    144\u001b[0m \u001b[0;32mdef\u001b[0m \u001b[0mmake\u001b[0m\u001b[0;34m(\u001b[0m\u001b[0mid\u001b[0m\u001b[0;34m,\u001b[0m \u001b[0;34m**\u001b[0m\u001b[0mkwargs\u001b[0m\u001b[0;34m)\u001b[0m\u001b[0;34m:\u001b[0m\u001b[0;34m\u001b[0m\u001b[0;34m\u001b[0m\u001b[0m\n\u001b[0;32m--> 145\u001b[0;31m     \u001b[0;32mreturn\u001b[0m \u001b[0mregistry\u001b[0m\u001b[0;34m.\u001b[0m\u001b[0mmake\u001b[0m\u001b[0;34m(\u001b[0m\u001b[0mid\u001b[0m\u001b[0;34m,\u001b[0m \u001b[0;34m**\u001b[0m\u001b[0mkwargs\u001b[0m\u001b[0;34m)\u001b[0m\u001b[0;34m\u001b[0m\u001b[0;34m\u001b[0m\u001b[0m\n\u001b[0m\u001b[1;32m    146\u001b[0m \u001b[0;34m\u001b[0m\u001b[0m\n\u001b[1;32m    147\u001b[0m \u001b[0;32mdef\u001b[0m \u001b[0mspec\u001b[0m\u001b[0;34m(\u001b[0m\u001b[0mid\u001b[0m\u001b[0;34m)\u001b[0m\u001b[0;34m:\u001b[0m\u001b[0;34m\u001b[0m\u001b[0;34m\u001b[0m\u001b[0m\n",
      "\u001b[0;32m~/miniconda3/envs/rl-coach/lib/python3.7/site-packages/gym/envs/registration.py\u001b[0m in \u001b[0;36mmake\u001b[0;34m(self, path, **kwargs)\u001b[0m\n\u001b[1;32m     87\u001b[0m         \u001b[0;32melse\u001b[0m\u001b[0;34m:\u001b[0m\u001b[0;34m\u001b[0m\u001b[0;34m\u001b[0m\u001b[0m\n\u001b[1;32m     88\u001b[0m             \u001b[0mlogger\u001b[0m\u001b[0;34m.\u001b[0m\u001b[0minfo\u001b[0m\u001b[0;34m(\u001b[0m\u001b[0;34m'Making new env: %s'\u001b[0m\u001b[0;34m,\u001b[0m \u001b[0mpath\u001b[0m\u001b[0;34m)\u001b[0m\u001b[0;34m\u001b[0m\u001b[0;34m\u001b[0m\u001b[0m\n\u001b[0;32m---> 89\u001b[0;31m         \u001b[0mspec\u001b[0m \u001b[0;34m=\u001b[0m \u001b[0mself\u001b[0m\u001b[0;34m.\u001b[0m\u001b[0mspec\u001b[0m\u001b[0;34m(\u001b[0m\u001b[0mpath\u001b[0m\u001b[0;34m)\u001b[0m\u001b[0;34m\u001b[0m\u001b[0;34m\u001b[0m\u001b[0m\n\u001b[0m\u001b[1;32m     90\u001b[0m         \u001b[0menv\u001b[0m \u001b[0;34m=\u001b[0m \u001b[0mspec\u001b[0m\u001b[0;34m.\u001b[0m\u001b[0mmake\u001b[0m\u001b[0;34m(\u001b[0m\u001b[0;34m**\u001b[0m\u001b[0mkwargs\u001b[0m\u001b[0;34m)\u001b[0m\u001b[0;34m\u001b[0m\u001b[0;34m\u001b[0m\u001b[0m\n\u001b[1;32m     91\u001b[0m         \u001b[0;31m# We used to have people override _reset/_step rather than\u001b[0m\u001b[0;34m\u001b[0m\u001b[0;34m\u001b[0m\u001b[0;34m\u001b[0m\u001b[0m\n",
      "\u001b[0;32m~/miniconda3/envs/rl-coach/lib/python3.7/site-packages/gym/envs/registration.py\u001b[0m in \u001b[0;36mspec\u001b[0;34m(self, path)\u001b[0m\n\u001b[1;32m    116\u001b[0m         \u001b[0mmatch\u001b[0m \u001b[0;34m=\u001b[0m \u001b[0menv_id_re\u001b[0m\u001b[0;34m.\u001b[0m\u001b[0msearch\u001b[0m\u001b[0;34m(\u001b[0m\u001b[0mid\u001b[0m\u001b[0;34m)\u001b[0m\u001b[0;34m\u001b[0m\u001b[0;34m\u001b[0m\u001b[0m\n\u001b[1;32m    117\u001b[0m         \u001b[0;32mif\u001b[0m \u001b[0;32mnot\u001b[0m \u001b[0mmatch\u001b[0m\u001b[0;34m:\u001b[0m\u001b[0;34m\u001b[0m\u001b[0;34m\u001b[0m\u001b[0m\n\u001b[0;32m--> 118\u001b[0;31m             \u001b[0;32mraise\u001b[0m \u001b[0merror\u001b[0m\u001b[0;34m.\u001b[0m\u001b[0mError\u001b[0m\u001b[0;34m(\u001b[0m\u001b[0;34m'Attempted to look up malformed environment ID: {}. (Currently all IDs must be of the form {}.)'\u001b[0m\u001b[0;34m.\u001b[0m\u001b[0mformat\u001b[0m\u001b[0;34m(\u001b[0m\u001b[0mid\u001b[0m\u001b[0;34m.\u001b[0m\u001b[0mencode\u001b[0m\u001b[0;34m(\u001b[0m\u001b[0;34m'utf-8'\u001b[0m\u001b[0;34m)\u001b[0m\u001b[0;34m,\u001b[0m \u001b[0menv_id_re\u001b[0m\u001b[0;34m.\u001b[0m\u001b[0mpattern\u001b[0m\u001b[0;34m)\u001b[0m\u001b[0;34m)\u001b[0m\u001b[0;34m\u001b[0m\u001b[0;34m\u001b[0m\u001b[0m\n\u001b[0m\u001b[1;32m    119\u001b[0m \u001b[0;34m\u001b[0m\u001b[0m\n\u001b[1;32m    120\u001b[0m         \u001b[0;32mtry\u001b[0m\u001b[0;34m:\u001b[0m\u001b[0;34m\u001b[0m\u001b[0;34m\u001b[0m\u001b[0m\n",
      "\u001b[0;31mError\u001b[0m: Attempted to look up malformed environment ID: b'<AnimationMonitor<MetricsWrapper<MultiTimeLimit<Pogema<Pogema-v0>>>>>'. (Currently all IDs must be of the form ^(?:[\\w:-]+\\/)?([\\w:.-]+)-v(\\d+)$.)"
     ]
    }
   ],
   "source": [
    "# from Resources.exploration import MyExplorationParameters\n",
    "\n",
    "# Overriding the default DQN Agent exploration policy with my exploration policy\n",
    "# agent_params.exploration = MyExplorationParameters()\n",
    "\n",
    "# Creating a graph manager to train a DQN agent to solve CartPole\n",
    "graph_manager = BasicRLGraphManager(agent_params=agent_params, env_params=env_params,\n",
    "                                    schedule_params=schedule_params, vis_params=VisualizationParameters())\n",
    "\n",
    "# Resources path was defined at the top of this notebook\n",
    "my_checkpoint_dir = resources_path + '/checkpoints'\n",
    "\n",
    "# Checkpoints will be stored every 5 seconds to the given directory\n",
    "task_parameters1 = TaskParameters()\n",
    "task_parameters1.checkpoint_save_dir = my_checkpoint_dir\n",
    "task_parameters1.checkpoint_save_secs = 5\n",
    "\n",
    "graph_manager.create_graph(task_parameters1)\n",
    "graph_manager.improve()\n"
   ]
  },
  {
   "cell_type": "code",
   "execution_count": 9,
   "metadata": {},
   "outputs": [
    {
     "name": "stdout",
     "output_type": "stream",
     "text": [
      "['/root/project/wall-e-robot/Jupyter Notebook', '/root/miniconda3/envs/rl-coach/lib/python37.zip', '/root/miniconda3/envs/rl-coach/lib/python3.7', '/root/miniconda3/envs/rl-coach/lib/python3.7/lib-dynload', '', '/root/miniconda3/envs/rl-coach/lib/python3.7/site-packages', '/root/miniconda3/envs/rl-coach/lib/python3.7/site-packages/IPython/extensions', '/root/.ipython', '/root/project/wall-e-robot', '/root/project/wall-e-robot/Jupyter Notebook/Resources']\n"
     ]
    }
   ],
   "source": [
    "print(sys.path)"
   ]
  },
  {
   "cell_type": "code",
   "execution_count": 12,
   "metadata": {},
   "outputs": [
    {
     "data": {
      "text/plain": [
       "'/root/project/wall-e-robot/Jupyter Notebook'"
      ]
     },
     "execution_count": 12,
     "metadata": {},
     "output_type": "execute_result"
    }
   ],
   "source": [
    "os.getcwd()"
   ]
  },
  {
   "cell_type": "code",
   "execution_count": null,
   "metadata": {},
   "outputs": [],
   "source": []
  },
  {
   "cell_type": "code",
   "execution_count": null,
   "metadata": {},
   "outputs": [],
   "source": []
  },
  {
   "cell_type": "code",
   "execution_count": null,
   "metadata": {},
   "outputs": [],
   "source": []
  },
  {
   "cell_type": "code",
   "execution_count": null,
   "metadata": {},
   "outputs": [],
   "source": []
  },
  {
   "cell_type": "code",
   "execution_count": null,
   "metadata": {},
   "outputs": [],
   "source": []
  },
  {
   "cell_type": "code",
   "execution_count": null,
   "metadata": {},
   "outputs": [],
   "source": []
  },
  {
   "cell_type": "code",
   "execution_count": null,
   "metadata": {},
   "outputs": [],
   "source": []
  },
  {
   "cell_type": "code",
   "execution_count": null,
   "metadata": {},
   "outputs": [],
   "source": []
  },
  {
   "cell_type": "code",
   "execution_count": null,
   "metadata": {},
   "outputs": [],
   "source": []
  },
  {
   "cell_type": "code",
   "execution_count": null,
   "metadata": {},
   "outputs": [],
   "source": []
  },
  {
   "cell_type": "code",
   "execution_count": null,
   "metadata": {},
   "outputs": [],
   "source": []
  },
  {
   "cell_type": "code",
   "execution_count": null,
   "metadata": {},
   "outputs": [],
   "source": []
  },
  {
   "cell_type": "code",
   "execution_count": null,
   "metadata": {},
   "outputs": [],
   "source": []
  },
  {
   "cell_type": "code",
   "execution_count": null,
   "metadata": {},
   "outputs": [],
   "source": []
  },
  {
   "cell_type": "code",
   "execution_count": null,
   "metadata": {},
   "outputs": [],
   "source": []
  }
 ],
 "metadata": {
  "interpreter": {
   "hash": "7468555a16769beefeca167af01be8498d4c968354eba6416950a82175ca2105"
  },
  "kernelspec": {
   "display_name": "Python 3.7.13 ('rl-coach')",
   "language": "python",
   "name": "python3"
  },
  "language_info": {
   "codemirror_mode": {
    "name": "ipython",
    "version": 3
   },
   "file_extension": ".py",
   "mimetype": "text/x-python",
   "name": "python",
   "nbconvert_exporter": "python",
   "pygments_lexer": "ipython3",
   "version": "3.7.13"
  },
  "orig_nbformat": 4
 },
 "nbformat": 4,
 "nbformat_minor": 2
}
