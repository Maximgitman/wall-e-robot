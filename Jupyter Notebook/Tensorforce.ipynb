{
 "cells": [
  {
   "cell_type": "code",
   "execution_count": 2,
   "metadata": {},
   "outputs": [
    {
     "name": "stdout",
     "output_type": "stream",
     "text": [
      "Collecting gym==0.19.0\n",
      "  Downloading gym-0.19.0.tar.gz (1.6 MB)\n",
      "\u001b[K     |████████████████████████████████| 1.6 MB 43.9 MB/s eta 0:00:01\n",
      "\u001b[?25hRequirement already satisfied: numpy>=1.18.0 in /root/miniconda3/envs/rl-tensorforce/lib/python3.8/site-packages (from gym==0.19.0) (1.19.5)\n",
      "Requirement already satisfied: cloudpickle<1.7.0,>=1.2.0 in /root/miniconda3/envs/rl-tensorforce/lib/python3.8/site-packages (from gym==0.19.0) (1.6.0)\n",
      "Building wheels for collected packages: gym\n",
      "  Building wheel for gym (setup.py) ... \u001b[?25ldone\n",
      "\u001b[?25h  Created wheel for gym: filename=gym-0.19.0-py3-none-any.whl size=1663117 sha256=aa2ab55168603069819071600d13d000cab570bc862e8dc4c72af031e906ada8\n",
      "  Stored in directory: /root/.cache/pip/wheels/11/36/28/628f4dd3779e4037a6fca1aaed76827ffa4315c3ab6bfadcf6\n",
      "Successfully built gym\n",
      "Installing collected packages: gym\n",
      "  Attempting uninstall: gym\n",
      "    Found existing installation: gym 0.18.3\n",
      "    Uninstalling gym-0.18.3:\n",
      "      Successfully uninstalled gym-0.18.3\n",
      "Successfully installed gym-0.19.0\n",
      "\u001b[33mWARNING: Running pip as the 'root' user can result in broken permissions and conflicting behaviour with the system package manager. It is recommended to use a virtual environment instead: https://pip.pypa.io/warnings/venv\u001b[0m\n"
     ]
    }
   ],
   "source": [
    "# !pip3 install -q tensorforce==0.6.4\n",
    "# !pip install -q tensorflow==2.5.*\n",
    "# !pip install -q keras==2.5.0rc0\n",
    "!pip install gym==0.19.0"
   ]
  },
  {
   "cell_type": "code",
   "execution_count": 8,
   "metadata": {},
   "outputs": [
    {
     "data": {
      "image/svg+xml": "<svg xmlns=\"http://www.w3.org/2000/svg\" xmlns:xlink=\"http://www.w3.org/1999/xlink\" width=\"140\" height=\"140\" viewBox=\"0 -1400 1400 1400\">\n<defs>\n</defs>\n<rect x=\"5\" y=\"-1195\" width=\"1090\" height=\"1090\" stroke=\"#c1433c\" stroke-width=\"10\" fill=\"none\" rx=\"15\" stroke-dasharray=\"25\">\n<animate repeatCount=\"indefinite\" keyTimes=\"0.0;0.0384615385;1.0\" attributeName=\"x\" dur=\"7.000000000000001s\" values=\"5;5;5\"/>\n<animate repeatCount=\"indefinite\" keyTimes=\"0.0;0.0384615385;0.0769230769;0.1923076923;0.2307692308;0.3076923077;0.3461538462;0.5;0.5384615385;0.5769230769;0.6153846154;0.8076923077;0.8461538462;0.8846153846;0.9615384615;1.0\" attributeName=\"y\" dur=\"7.000000000000001s\" values=\"-1195;-1195;-1095;-1095;-1195;-1195;-1095;-1095;-1195;-1195;-1095;-1095;-1195;-1295;-1295;-1395\"/>\n<animate repeatCount=\"indefinite\" keyTimes=\"0.0;0.0384615385;0.9615384615;1.0\" attributeName=\"visibility\" dur=\"7.000000000000001s\" values=\"visible;visible;visible;hidden\"/>\n</rect>\n<rect x=\"415\" y=\"-485\" width=\"70\" height=\"70\" rx=\"15\" fill=\"#84A1AE\">\n<animate repeatCount=\"indefinite\" keyTimes=\"0.0;0.0384615385;1.0\" attributeName=\"opacity\" dur=\"7.000000000000001s\" values=\"1.0;1.0;1.0\"/>\n</rect>\n<rect x=\"415\" y=\"-585\" width=\"70\" height=\"70\" rx=\"15\" fill=\"#84A1AE\">\n<animate repeatCount=\"indefinite\" keyTimes=\"0.0;0.0384615385;1.0\" attributeName=\"opacity\" dur=\"7.000000000000001s\" values=\"1.0;1.0;1.0\"/>\n</rect>\n<rect x=\"415\" y=\"-685\" width=\"70\" height=\"70\" rx=\"15\" fill=\"#84A1AE\">\n<animate repeatCount=\"indefinite\" keyTimes=\"0.0;0.0384615385;1.0\" attributeName=\"opacity\" dur=\"7.000000000000001s\" values=\"1.0;1.0;1.0\"/>\n</rect>\n<rect x=\"415\" y=\"-785\" width=\"70\" height=\"70\" rx=\"15\" fill=\"#84A1AE\">\n<animate repeatCount=\"indefinite\" keyTimes=\"0.0;0.0384615385;1.0\" attributeName=\"opacity\" dur=\"7.000000000000001s\" values=\"1.0;1.0;1.0\"/>\n</rect>\n<rect x=\"415\" y=\"-885\" width=\"70\" height=\"70\" rx=\"15\" fill=\"#84A1AE\">\n<animate repeatCount=\"indefinite\" keyTimes=\"0.0;0.0384615385;1.0\" attributeName=\"opacity\" dur=\"7.000000000000001s\" values=\"1.0;1.0;1.0\"/>\n</rect>\n<rect x=\"415\" y=\"-985\" width=\"70\" height=\"70\" rx=\"15\" fill=\"#84A1AE\">\n<animate repeatCount=\"indefinite\" keyTimes=\"0.0;0.0384615385;1.0\" attributeName=\"opacity\" dur=\"7.000000000000001s\" values=\"1.0;1.0;1.0\"/>\n</rect>\n<rect x=\"515\" y=\"-485\" width=\"70\" height=\"70\" rx=\"15\" fill=\"#84A1AE\">\n<animate repeatCount=\"indefinite\" keyTimes=\"0.0;0.0384615385;1.0\" attributeName=\"opacity\" dur=\"7.000000000000001s\" values=\"1.0;1.0;1.0\"/>\n</rect>\n<rect x=\"515\" y=\"-985\" width=\"70\" height=\"70\" rx=\"15\" fill=\"#84A1AE\">\n<animate repeatCount=\"indefinite\" keyTimes=\"0.0;0.0384615385;1.0\" attributeName=\"opacity\" dur=\"7.000000000000001s\" values=\"1.0;1.0;1.0\"/>\n</rect>\n<rect x=\"615\" y=\"-485\" width=\"70\" height=\"70\" rx=\"15\" fill=\"#84A1AE\">\n<animate repeatCount=\"indefinite\" keyTimes=\"0.0;0.0384615385;1.0\" attributeName=\"opacity\" dur=\"7.000000000000001s\" values=\"1.0;1.0;1.0\"/>\n</rect>\n<rect x=\"615\" y=\"-585\" width=\"70\" height=\"70\" rx=\"15\" fill=\"#84A1AE\">\n<animate repeatCount=\"indefinite\" keyTimes=\"0.0;0.0384615385;1.0\" attributeName=\"opacity\" dur=\"7.000000000000001s\" values=\"1.0;1.0;1.0\"/>\n</rect>\n<rect x=\"615\" y=\"-885\" width=\"70\" height=\"70\" rx=\"15\" fill=\"#84A1AE\">\n<animate repeatCount=\"indefinite\" keyTimes=\"0.0;0.0384615385;1.0\" attributeName=\"opacity\" dur=\"7.000000000000001s\" values=\"1.0;1.0;1.0\"/>\n</rect>\n<rect x=\"615\" y=\"-985\" width=\"70\" height=\"70\" rx=\"15\" fill=\"#84A1AE\">\n<animate repeatCount=\"indefinite\" keyTimes=\"0.0;0.0384615385;1.0\" attributeName=\"opacity\" dur=\"7.000000000000001s\" values=\"1.0;1.0;1.0\"/>\n</rect>\n<rect x=\"715\" y=\"-485\" width=\"70\" height=\"70\" rx=\"15\" fill=\"#84A1AE\">\n<animate repeatCount=\"indefinite\" keyTimes=\"0.0;0.0384615385;1.0\" attributeName=\"opacity\" dur=\"7.000000000000001s\" values=\"1.0;1.0;1.0\"/>\n</rect>\n<rect x=\"715\" y=\"-685\" width=\"70\" height=\"70\" rx=\"15\" fill=\"#84A1AE\">\n<animate repeatCount=\"indefinite\" keyTimes=\"0.0;0.0384615385;1.0\" attributeName=\"opacity\" dur=\"7.000000000000001s\" values=\"1.0;1.0;1.0\"/>\n</rect>\n<rect x=\"715\" y=\"-785\" width=\"70\" height=\"70\" rx=\"15\" fill=\"#84A1AE\">\n<animate repeatCount=\"indefinite\" keyTimes=\"0.0;0.0384615385;1.0\" attributeName=\"opacity\" dur=\"7.000000000000001s\" values=\"1.0;1.0;1.0\"/>\n</rect>\n<rect x=\"715\" y=\"-985\" width=\"70\" height=\"70\" rx=\"15\" fill=\"#84A1AE\">\n<animate repeatCount=\"indefinite\" keyTimes=\"0.0;0.0384615385;1.0\" attributeName=\"opacity\" dur=\"7.000000000000001s\" values=\"1.0;1.0;1.0\"/>\n</rect>\n<rect x=\"815\" y=\"-485\" width=\"70\" height=\"70\" rx=\"15\" fill=\"#84A1AE\">\n<animate repeatCount=\"indefinite\" keyTimes=\"0.0;0.0384615385;1.0\" attributeName=\"opacity\" dur=\"7.000000000000001s\" values=\"1.0;1.0;1.0\"/>\n</rect>\n<rect x=\"815\" y=\"-885\" width=\"70\" height=\"70\" rx=\"15\" fill=\"#84A1AE\">\n<animate repeatCount=\"indefinite\" keyTimes=\"0.0;0.0384615385;1.0\" attributeName=\"opacity\" dur=\"7.000000000000001s\" values=\"1.0;1.0;1.0\"/>\n</rect>\n<rect x=\"815\" y=\"-985\" width=\"70\" height=\"70\" rx=\"15\" fill=\"#84A1AE\">\n<animate repeatCount=\"indefinite\" keyTimes=\"0.0;0.0384615385;1.0\" attributeName=\"opacity\" dur=\"7.000000000000001s\" values=\"1.0;1.0;1.0\"/>\n</rect>\n<rect x=\"915\" y=\"-485\" width=\"70\" height=\"70\" rx=\"15\" fill=\"#84A1AE\">\n<animate repeatCount=\"indefinite\" keyTimes=\"0.0;0.0384615385;1.0\" attributeName=\"opacity\" dur=\"7.000000000000001s\" values=\"1.0;1.0;1.0\"/>\n</rect>\n<rect x=\"915\" y=\"-585\" width=\"70\" height=\"70\" rx=\"15\" fill=\"#84A1AE\">\n<animate repeatCount=\"indefinite\" keyTimes=\"0.0;0.0384615385;1.0\" attributeName=\"opacity\" dur=\"7.000000000000001s\" values=\"1.0;1.0;1.0\"/>\n</rect>\n<rect x=\"915\" y=\"-685\" width=\"70\" height=\"70\" rx=\"15\" fill=\"#84A1AE\">\n<animate repeatCount=\"indefinite\" keyTimes=\"0.0;0.0384615385;1.0\" attributeName=\"opacity\" dur=\"7.000000000000001s\" values=\"1.0;1.0;1.0\"/>\n</rect>\n<rect x=\"915\" y=\"-785\" width=\"70\" height=\"70\" rx=\"15\" fill=\"#84A1AE\">\n<animate repeatCount=\"indefinite\" keyTimes=\"0.0;0.0384615385;1.0\" attributeName=\"opacity\" dur=\"7.000000000000001s\" values=\"1.0;1.0;1.0\"/>\n</rect>\n<rect x=\"915\" y=\"-885\" width=\"70\" height=\"70\" rx=\"15\" fill=\"#84A1AE\">\n<animate repeatCount=\"indefinite\" keyTimes=\"0.0;0.0384615385;1.0\" attributeName=\"opacity\" dur=\"7.000000000000001s\" values=\"1.0;1.0;1.0\"/>\n</rect>\n<rect x=\"915\" y=\"-985\" width=\"70\" height=\"70\" rx=\"15\" fill=\"#84A1AE\">\n<animate repeatCount=\"indefinite\" keyTimes=\"0.0;0.0384615385;1.0\" attributeName=\"opacity\" dur=\"7.000000000000001s\" values=\"1.0;1.0;1.0\"/>\n</rect>\n<circle cx=\"850\" cy=\"-650\" r=\"35\" fill=\"#72D5C8\">\n<animate repeatCount=\"indefinite\" keyTimes=\"0.0;0.0384615385;0.0769230769;1.0\" attributeName=\"cy\" dur=\"7.000000000000001s\" values=\"-650;-650;-550;-550\"/>\n<animate repeatCount=\"indefinite\" keyTimes=\"0.0;0.0384615385;1.0\" attributeName=\"cx\" dur=\"7.000000000000001s\" values=\"850;850;850\"/>\n<animate repeatCount=\"indefinite\" keyTimes=\"0.0;0.0384615385;0.0769230769;1.0\" attributeName=\"visibility\" dur=\"7.000000000000001s\" values=\"visible;visible;hidden;hidden\"/>\n<animate repeatCount=\"indefinite\" keyTimes=\"0.0;0.0384615385;1.0\" attributeName=\"opacity\" dur=\"7.000000000000001s\" values=\"1.0;1.0;1.0\"/>\n</circle>\n<circle cx=\"550\" cy=\"-650\" r=\"35\" fill=\"#c1433c\">\n<animate repeatCount=\"indefinite\" keyTimes=\"0.0;0.0384615385;0.0769230769;0.1923076923;0.2307692308;0.3076923077;0.3461538462;0.5;0.5384615385;0.5769230769;0.6153846154;0.8076923077;0.8461538462;0.8846153846;0.9615384615;1.0\" attributeName=\"cy\" dur=\"7.000000000000001s\" values=\"-650;-650;-550;-550;-650;-650;-550;-550;-650;-650;-550;-550;-650;-750;-750;-850\"/>\n<animate repeatCount=\"indefinite\" keyTimes=\"0.0;0.0384615385;1.0\" attributeName=\"cx\" dur=\"7.000000000000001s\" values=\"550;550;550\"/>\n<animate repeatCount=\"indefinite\" keyTimes=\"0.0;0.0384615385;0.9615384615;1.0\" attributeName=\"visibility\" dur=\"7.000000000000001s\" values=\"visible;visible;visible;hidden\"/>\n<animate repeatCount=\"indefinite\" keyTimes=\"0.0;0.0384615385;1.0\" attributeName=\"opacity\" dur=\"7.000000000000001s\" values=\"1.0;1.0;1.0\"/>\n</circle>\n<circle cx=\"850\" cy=\"-750\" r=\"35\" fill=\"#72D5C8\">\n<animate repeatCount=\"indefinite\" keyTimes=\"0.0;0.0384615385;0.0769230769;0.1153846154;0.7692307692;0.8076923077;0.8461538462;1.0\" attributeName=\"cy\" dur=\"7.000000000000001s\" values=\"-750;-750;-650;-750;-750;-650;-550;-550\"/>\n<animate repeatCount=\"indefinite\" keyTimes=\"0.0;0.0384615385;1.0\" attributeName=\"cx\" dur=\"7.000000000000001s\" values=\"850;850;850\"/>\n<animate repeatCount=\"indefinite\" keyTimes=\"0.0;0.0384615385;1.0\" attributeName=\"visibility\" dur=\"7.000000000000001s\" values=\"visible;visible;visible\"/>\n<animate repeatCount=\"indefinite\" keyTimes=\"0.0;0.0384615385;1.0\" attributeName=\"opacity\" dur=\"7.000000000000001s\" values=\"1.0;1.0;1.0\"/>\n</circle>\n<circle cx=\"550\" cy=\"-850\" r=\"35\" stroke=\"#c1433c\" stroke-width=\"10\" fill=\"none\"/>\n</svg>",
      "text/plain": [
       "<IPython.core.display.SVG object>"
      ]
     },
     "metadata": {},
     "output_type": "display_data"
    }
   ],
   "source": [
    "import gym\n",
    "from pogema.wrappers.multi_time_limit import MultiTimeLimit\n",
    "from pogema.animation import AnimationMonitor\n",
    "from IPython.display import SVG, display\n",
    "import numpy as np\n",
    "import pogema\n",
    "from pogema import GridConfig\n",
    "\n",
    "# Define random configuration\n",
    "grid_config = GridConfig(num_agents=3, # количество агентов на карте\n",
    "                         size=4,      # размеры карты\n",
    "                         density=0.4,  # плотность препятствий\n",
    "                         seed=1,       # сид генерации задания \n",
    "                         max_episode_steps=256,  # максимальная длина эпизода\n",
    "                         obs_radius=5, # радиус обзора\n",
    "                        )\n",
    "\n",
    "env = gym.make(\"Pogema-v0\", grid_config=grid_config)\n",
    "env = AnimationMonitor(env)\n",
    "\n",
    "# обновляем окружение\n",
    "obs = env.reset()\n",
    "\n",
    "done = [False, ...]\n",
    "\n",
    "while not all(done):\n",
    "    # Используем случайную стратегию\n",
    "    obs, reward, done, info = env.step([np.random.randint(4) for _ in range(len(obs))])\n",
    "# сохраняем анимацию и рисуем ее\n",
    "env.save_animation(\"render.svg\", egocentric_idx=1)\n",
    "display(SVG('render.svg'))"
   ]
  },
  {
   "cell_type": "code",
   "execution_count": 17,
   "metadata": {},
   "outputs": [],
   "source": [
    "from tensorforce.environments import Environment\n",
    "from tensorforce.agents import Agent\n",
    "from tensorforce.agents import DQNAgent\n",
    "from tensorforce.execution import Runner"
   ]
  },
  {
   "cell_type": "code",
   "execution_count": 19,
   "metadata": {},
   "outputs": [],
   "source": [
    "import numpy as np\n",
    "\n",
    "from tensorforce import Environment, Runner\n",
    "\n",
    "\n",
    "class MultiactorEnvironment(Environment):\n",
    "    \"\"\"\n",
    "    Example multi-actor environment, illustrating best-practice implementation pattern.\n",
    "    State space: position in [0, 10].\n",
    "    Action space: movement in {-1, 0, 1}.\n",
    "    Random start in [3, 7].\n",
    "    Actor 1 perspective as is, actor 2 perspective mirrored.\n",
    "    Positive reward for being closer to 10.\n",
    "    \"\"\"\n",
    "\n",
    "    def __init__(self):\n",
    "        super().__init__()\n",
    "\n",
    "    def states(self):\n",
    "        return dict(type='int', num_values=11)\n",
    "\n",
    "    def actions(self):\n",
    "        return dict(type='int', num_values=3)\n",
    "\n",
    "    def num_actors(self):\n",
    "        return 2  # Indicates that environment has multiple actors\n",
    "\n",
    "    def reset(self):\n",
    "        # Always for multi-actor environments: initialize parallel indices\n",
    "        self._parallel_indices = np.arange(self.num_actors())\n",
    "\n",
    "        # Single shared environment logic, plus per-actor perspective\n",
    "        self._states = 3 + np.random.randint(5)\n",
    "        self.second_actor = True\n",
    "        states = np.stack([self._states, 10 - self._states], axis=0)\n",
    "\n",
    "        # Always for multi-actor environments: return per-actor values\n",
    "        return self._parallel_indices.copy(), states\n",
    "\n",
    "    def execute(self, actions):\n",
    "        # Single shared environment logic, plus per-actor perspective\n",
    "        if self.second_actor:\n",
    "            self.second_actor = self.second_actor and not (np.random.random_sample() < 0.1)\n",
    "            terminal = np.stack([False, not self.second_actor], axis=0)\n",
    "            delta = (actions[0] - 1) - (actions[1] - 1)\n",
    "            self._states = np.clip(self._states + delta, a_min=0, a_max=10)\n",
    "            states = np.stack([self._states, 10 - self._states], axis=0)\n",
    "        else:\n",
    "            terminal = np.stack([False], axis=0)\n",
    "            delta = (actions[0] - 1)\n",
    "            self._states = np.clip(self._states + delta, a_min=0, a_max=10)\n",
    "            states = np.stack([self._states], axis=0)\n",
    "        reward = (states - 5.0) / 5.0\n",
    "\n",
    "        # Always for multi-actor environments: update parallel indices, and return per-actor values\n",
    "        self._parallel_indices = self._parallel_indices[~terminal]\n",
    "        return self._parallel_indices.copy(), states, terminal, reward\n",
    "\n",
    "\n",
    "\n",
    "# Возможно переписать свой класс мультиивент\n",
    "\n",
    "\n"
   ]
  },
  {
   "cell_type": "code",
   "execution_count": 20,
   "metadata": {},
   "outputs": [],
   "source": [
    "environment = MultiactorEnvironment.create(\n",
    "    environment='gym', level=env, max_episode_timesteps=500\n",
    ")\n",
    "\n",
    "agent = Agent.create(\n",
    "    agent='tensorforce', environment=environment, update=64,\n",
    "    optimizer=dict(optimizer='adam', learning_rate=1e-3),\n",
    "    objective='policy_gradient', reward_estimation=dict(horizon=20)\n",
    ")"
   ]
  },
  {
   "cell_type": "code",
   "execution_count": 23,
   "metadata": {},
   "outputs": [
    {
     "data": {
      "application/vnd.jupyter.widget-view+json": {
       "model_id": "38a4eadb5f8843c4bda5cde3fb6db3fd",
       "version_major": 2,
       "version_minor": 0
      },
      "text/plain": [
       "Episodes:   0%|          | 0/1000 [00:00, return=0.00, ts/ep=0, sec/ep=0.00, ms/ts=0.0, agent=0.0%]"
      ]
     },
     "metadata": {},
     "output_type": "display_data"
    },
    {
     "name": "stdout",
     "output_type": "stream",
     "text": [
      "1 {'type': 'float', 'shape': (3, 11, 11), 'min_value': 0.0, 'max_value': 1.0}\n",
      "2 TensorSpec(type=float, shape=(3, 11, 11), min_value=0.0, max_value=1.0)\n",
      "TensorSpec(type=float, shape=(3, 11, 11), min_value=0.0, max_value=1.0)\n"
     ]
    },
    {
     "ename": "TensorforceError",
     "evalue": "Environment.reset: invalid shape (3, 3, 11, 11) != (3, 11, 11) for  state.",
     "output_type": "error",
     "traceback": [
      "\u001b[0;31m---------------------------------------------------------------------------\u001b[0m",
      "\u001b[0;31mTensorforceError\u001b[0m                          Traceback (most recent call last)",
      "\u001b[1;32m/root/project/wall-e-robot/Jupyter Notebook/Tensorforce.ipynb Cell 6'\u001b[0m in \u001b[0;36m<cell line: 11>\u001b[0;34m()\u001b[0m\n\u001b[1;32m      <a href='vscode-notebook-cell://ssh-remote%2Byuri.chat-api.com/root/project/wall-e-robot/Jupyter%20Notebook/Tensorforce.ipynb#ch0000014vscode-remote?line=7'>8</a>\u001b[0m     runner\u001b[39m.\u001b[39mrun(num_episodes\u001b[39m=\u001b[39m\u001b[39m1000\u001b[39m)\n\u001b[1;32m     <a href='vscode-notebook-cell://ssh-remote%2Byuri.chat-api.com/root/project/wall-e-robot/Jupyter%20Notebook/Tensorforce.ipynb#ch0000014vscode-remote?line=10'>11</a>\u001b[0m \u001b[39mif\u001b[39;00m \u001b[39m__name__\u001b[39m \u001b[39m==\u001b[39m \u001b[39m'\u001b[39m\u001b[39m__main__\u001b[39m\u001b[39m'\u001b[39m:\n\u001b[0;32m---> <a href='vscode-notebook-cell://ssh-remote%2Byuri.chat-api.com/root/project/wall-e-robot/Jupyter%20Notebook/Tensorforce.ipynb#ch0000014vscode-remote?line=11'>12</a>\u001b[0m     main()\n",
      "\u001b[1;32m/root/project/wall-e-robot/Jupyter Notebook/Tensorforce.ipynb Cell 6'\u001b[0m in \u001b[0;36mmain\u001b[0;34m()\u001b[0m\n\u001b[1;32m      <a href='vscode-notebook-cell://ssh-remote%2Byuri.chat-api.com/root/project/wall-e-robot/Jupyter%20Notebook/Tensorforce.ipynb#ch0000014vscode-remote?line=0'>1</a>\u001b[0m \u001b[39mdef\u001b[39;00m \u001b[39mmain\u001b[39m():\n\u001b[1;32m      <a href='vscode-notebook-cell://ssh-remote%2Byuri.chat-api.com/root/project/wall-e-robot/Jupyter%20Notebook/Tensorforce.ipynb#ch0000014vscode-remote?line=1'>2</a>\u001b[0m     \u001b[39m# Multi-actor runner, automatically if environment.num_actors() > 1\u001b[39;00m\n\u001b[1;32m      <a href='vscode-notebook-cell://ssh-remote%2Byuri.chat-api.com/root/project/wall-e-robot/Jupyter%20Notebook/Tensorforce.ipynb#ch0000014vscode-remote?line=2'>3</a>\u001b[0m     runner \u001b[39m=\u001b[39m Runner(\n\u001b[1;32m      <a href='vscode-notebook-cell://ssh-remote%2Byuri.chat-api.com/root/project/wall-e-robot/Jupyter%20Notebook/Tensorforce.ipynb#ch0000014vscode-remote?line=3'>4</a>\u001b[0m         agent\u001b[39m=\u001b[39magent,\n\u001b[1;32m      <a href='vscode-notebook-cell://ssh-remote%2Byuri.chat-api.com/root/project/wall-e-robot/Jupyter%20Notebook/Tensorforce.ipynb#ch0000014vscode-remote?line=4'>5</a>\u001b[0m         environment\u001b[39m=\u001b[39menvironment,\n\u001b[1;32m      <a href='vscode-notebook-cell://ssh-remote%2Byuri.chat-api.com/root/project/wall-e-robot/Jupyter%20Notebook/Tensorforce.ipynb#ch0000014vscode-remote?line=5'>6</a>\u001b[0m         max_episode_timesteps\u001b[39m=\u001b[39m\u001b[39m500\u001b[39m\n\u001b[1;32m      <a href='vscode-notebook-cell://ssh-remote%2Byuri.chat-api.com/root/project/wall-e-robot/Jupyter%20Notebook/Tensorforce.ipynb#ch0000014vscode-remote?line=6'>7</a>\u001b[0m     )\n\u001b[0;32m----> <a href='vscode-notebook-cell://ssh-remote%2Byuri.chat-api.com/root/project/wall-e-robot/Jupyter%20Notebook/Tensorforce.ipynb#ch0000014vscode-remote?line=7'>8</a>\u001b[0m     runner\u001b[39m.\u001b[39;49mrun(num_episodes\u001b[39m=\u001b[39;49m\u001b[39m1000\u001b[39;49m)\n",
      "File \u001b[0;32m~/miniconda3/envs/rl-tensorforce/lib/python3.8/site-packages/tensorforce/execution/runner.py:612\u001b[0m, in \u001b[0;36mRunner.run\u001b[0;34m(self, num_episodes, num_timesteps, num_updates, batch_agent_calls, sync_timesteps, sync_episodes, num_sleep_secs, callback, callback_episode_frequency, callback_timestep_frequency, use_tqdm, mean_horizon, evaluation, save_best_agent, evaluation_callback)\u001b[0m\n\u001b[1;32m    <a href='file:///root/miniconda3/envs/rl-tensorforce/lib/python3.8/site-packages/tensorforce/execution/runner.py?line=607'>608</a>\u001b[0m             \u001b[39mbreak\u001b[39;00m\n\u001b[1;32m    <a href='file:///root/miniconda3/envs/rl-tensorforce/lib/python3.8/site-packages/tensorforce/execution/runner.py?line=609'>610</a>\u001b[0m \u001b[39melse\u001b[39;00m:\n\u001b[1;32m    <a href='file:///root/miniconda3/envs/rl-tensorforce/lib/python3.8/site-packages/tensorforce/execution/runner.py?line=610'>611</a>\u001b[0m     \u001b[39m# Check whether environment is ready, otherwise continue\u001b[39;00m\n\u001b[0;32m--> <a href='file:///root/miniconda3/envs/rl-tensorforce/lib/python3.8/site-packages/tensorforce/execution/runner.py?line=611'>612</a>\u001b[0m     observation \u001b[39m=\u001b[39m \u001b[39mself\u001b[39;49m\u001b[39m.\u001b[39;49menvironments[n]\u001b[39m.\u001b[39;49mreceive_execute()\n\u001b[1;32m    <a href='file:///root/miniconda3/envs/rl-tensorforce/lib/python3.8/site-packages/tensorforce/execution/runner.py?line=612'>613</a>\u001b[0m     \u001b[39mif\u001b[39;00m observation \u001b[39mis\u001b[39;00m \u001b[39mNone\u001b[39;00m:\n\u001b[1;32m    <a href='file:///root/miniconda3/envs/rl-tensorforce/lib/python3.8/site-packages/tensorforce/execution/runner.py?line=613'>614</a>\u001b[0m         \u001b[39mself\u001b[39m\u001b[39m.\u001b[39mterminals[n] \u001b[39m=\u001b[39m \u001b[39mself\u001b[39m\u001b[39m.\u001b[39mprev_terminals[n]\n",
      "File \u001b[0;32m~/miniconda3/envs/rl-tensorforce/lib/python3.8/site-packages/tensorforce/environments/environment.py:375\u001b[0m, in \u001b[0;36mEnvironment.receive_execute\u001b[0;34m(self)\u001b[0m\n\u001b[1;32m    <a href='file:///root/miniconda3/envs/rl-tensorforce/lib/python3.8/site-packages/tensorforce/environments/environment.py?line=372'>373</a>\u001b[0m \u001b[39mself\u001b[39m\u001b[39m.\u001b[39m_expect_receive \u001b[39m=\u001b[39m \u001b[39mNone\u001b[39;00m\n\u001b[1;32m    <a href='file:///root/miniconda3/envs/rl-tensorforce/lib/python3.8/site-packages/tensorforce/environments/environment.py?line=373'>374</a>\u001b[0m \u001b[39mif\u001b[39;00m \u001b[39mself\u001b[39m\u001b[39m.\u001b[39m_num_parallel \u001b[39mis\u001b[39;00m \u001b[39mNone\u001b[39;00m:\n\u001b[0;32m--> <a href='file:///root/miniconda3/envs/rl-tensorforce/lib/python3.8/site-packages/tensorforce/environments/environment.py?line=374'>375</a>\u001b[0m     states \u001b[39m=\u001b[39m \u001b[39mself\u001b[39;49m\u001b[39m.\u001b[39;49mreset()\n\u001b[1;32m    <a href='file:///root/miniconda3/envs/rl-tensorforce/lib/python3.8/site-packages/tensorforce/environments/environment.py?line=375'>376</a>\u001b[0m \u001b[39melse\u001b[39;00m:\n\u001b[1;32m    <a href='file:///root/miniconda3/envs/rl-tensorforce/lib/python3.8/site-packages/tensorforce/environments/environment.py?line=376'>377</a>\u001b[0m     parallel, states \u001b[39m=\u001b[39m \u001b[39mself\u001b[39m\u001b[39m.\u001b[39mreset(num_parallel\u001b[39m=\u001b[39mnum_parallel)\n",
      "File \u001b[0;32m~/miniconda3/envs/rl-tensorforce/lib/python3.8/site-packages/tensorforce/environments/environment.py:520\u001b[0m, in \u001b[0;36mEnvironmentWrapper.reset\u001b[0;34m(self, num_parallel)\u001b[0m\n\u001b[1;32m    <a href='file:///root/miniconda3/envs/rl-tensorforce/lib/python3.8/site-packages/tensorforce/environments/environment.py?line=517'>518</a>\u001b[0m     parallel, states \u001b[39m=\u001b[39m \u001b[39mself\u001b[39m\u001b[39m.\u001b[39m_environment\u001b[39m.\u001b[39mreset(num_parallel\u001b[39m=\u001b[39m\u001b[39mself\u001b[39m\u001b[39m.\u001b[39m_num_parallel)\n\u001b[1;32m    <a href='file:///root/miniconda3/envs/rl-tensorforce/lib/python3.8/site-packages/tensorforce/environments/environment.py?line=518'>519</a>\u001b[0m \u001b[39mif\u001b[39;00m \u001b[39mself\u001b[39m\u001b[39m.\u001b[39m_reset_output_check:\n\u001b[0;32m--> <a href='file:///root/miniconda3/envs/rl-tensorforce/lib/python3.8/site-packages/tensorforce/environments/environment.py?line=519'>520</a>\u001b[0m     \u001b[39mself\u001b[39;49m\u001b[39m.\u001b[39;49m_check_states_output(states\u001b[39m=\u001b[39;49mstates, function\u001b[39m=\u001b[39;49m\u001b[39m'\u001b[39;49m\u001b[39mreset\u001b[39;49m\u001b[39m'\u001b[39;49m)\n\u001b[1;32m    <a href='file:///root/miniconda3/envs/rl-tensorforce/lib/python3.8/site-packages/tensorforce/environments/environment.py?line=520'>521</a>\u001b[0m     \u001b[39mif\u001b[39;00m \u001b[39mself\u001b[39m\u001b[39m.\u001b[39m_num_parallel \u001b[39mis\u001b[39;00m \u001b[39mnot\u001b[39;00m \u001b[39mNone\u001b[39;00m:\n\u001b[1;32m    <a href='file:///root/miniconda3/envs/rl-tensorforce/lib/python3.8/site-packages/tensorforce/environments/environment.py?line=521'>522</a>\u001b[0m         TensorSpec(\u001b[39mtype\u001b[39m\u001b[39m=\u001b[39m\u001b[39m'\u001b[39m\u001b[39mint\u001b[39m\u001b[39m'\u001b[39m, shape\u001b[39m=\u001b[39m(), num_values\u001b[39m=\u001b[39m\u001b[39mself\u001b[39m\u001b[39m.\u001b[39m_num_parallel)\u001b[39m.\u001b[39mnp_assert(\n\u001b[1;32m    <a href='file:///root/miniconda3/envs/rl-tensorforce/lib/python3.8/site-packages/tensorforce/environments/environment.py?line=522'>523</a>\u001b[0m             x\u001b[39m=\u001b[39mparallel, batched\u001b[39m=\u001b[39m\u001b[39mTrue\u001b[39;00m,\n\u001b[1;32m    <a href='file:///root/miniconda3/envs/rl-tensorforce/lib/python3.8/site-packages/tensorforce/environments/environment.py?line=523'>524</a>\u001b[0m             message\u001b[39m=\u001b[39m(\u001b[39m'\u001b[39m\u001b[39mEnvironment.reset: invalid \u001b[39m\u001b[39m{issue}\u001b[39;00m\u001b[39m for parallel.\u001b[39m\u001b[39m'\u001b[39m)\n\u001b[1;32m    <a href='file:///root/miniconda3/envs/rl-tensorforce/lib/python3.8/site-packages/tensorforce/environments/environment.py?line=524'>525</a>\u001b[0m         )\n",
      "File \u001b[0;32m~/miniconda3/envs/rl-tensorforce/lib/python3.8/site-packages/tensorforce/environments/environment.py:465\u001b[0m, in \u001b[0;36mEnvironment._check_states_output\u001b[0;34m(self, states, function)\u001b[0m\n\u001b[1;32m    <a href='file:///root/miniconda3/envs/rl-tensorforce/lib/python3.8/site-packages/tensorforce/environments/environment.py?line=460'>461</a>\u001b[0m \u001b[39mprint\u001b[39m(states_spec)\n\u001b[1;32m    <a href='file:///root/miniconda3/envs/rl-tensorforce/lib/python3.8/site-packages/tensorforce/environments/environment.py?line=461'>462</a>\u001b[0m \u001b[39m# print(np.array(_states).shape)\u001b[39;00m\n\u001b[1;32m    <a href='file:///root/miniconda3/envs/rl-tensorforce/lib/python3.8/site-packages/tensorforce/environments/environment.py?line=462'>463</a>\u001b[0m \u001b[39m# _states = list(_states[0])\u001b[39;00m\n\u001b[1;32m    <a href='file:///root/miniconda3/envs/rl-tensorforce/lib/python3.8/site-packages/tensorforce/environments/environment.py?line=463'>464</a>\u001b[0m \u001b[39m# print(np.array(_states).shape)\u001b[39;00m\n\u001b[0;32m--> <a href='file:///root/miniconda3/envs/rl-tensorforce/lib/python3.8/site-packages/tensorforce/environments/environment.py?line=464'>465</a>\u001b[0m states_spec\u001b[39m.\u001b[39;49mnp_assert(\n\u001b[1;32m    <a href='file:///root/miniconda3/envs/rl-tensorforce/lib/python3.8/site-packages/tensorforce/environments/environment.py?line=465'>466</a>\u001b[0m     x\u001b[39m=\u001b[39;49m_states, batched\u001b[39m=\u001b[39;49m(\u001b[39mself\u001b[39;49m\u001b[39m.\u001b[39;49m_num_parallel \u001b[39mis\u001b[39;49;00m \u001b[39mnot\u001b[39;49;00m \u001b[39mNone\u001b[39;49;00m),\n\u001b[1;32m    <a href='file:///root/miniconda3/envs/rl-tensorforce/lib/python3.8/site-packages/tensorforce/environments/environment.py?line=466'>467</a>\u001b[0m     message\u001b[39m=\u001b[39;49m(function \u001b[39m+\u001b[39;49m \u001b[39m'\u001b[39;49m\u001b[39m: invalid \u001b[39;49m\u001b[39m{issue}\u001b[39;49;00m\u001b[39m for \u001b[39;49m\u001b[39m{name}\u001b[39;49;00m\u001b[39m state.\u001b[39;49m\u001b[39m'\u001b[39;49m)\n\u001b[1;32m    <a href='file:///root/miniconda3/envs/rl-tensorforce/lib/python3.8/site-packages/tensorforce/environments/environment.py?line=467'>468</a>\u001b[0m )\n",
      "File \u001b[0;32m~/miniconda3/envs/rl-tensorforce/lib/python3.8/site-packages/tensorforce/core/utils/tensor_spec.py:253\u001b[0m, in \u001b[0;36mTensorSpec.np_assert\u001b[0;34m(self, x, message, batched)\u001b[0m\n\u001b[1;32m    <a href='file:///root/miniconda3/envs/rl-tensorforce/lib/python3.8/site-packages/tensorforce/core/utils/tensor_spec.py?line=248'>249</a>\u001b[0m         \u001b[39mraise\u001b[39;00m TensorforceError(\n\u001b[1;32m    <a href='file:///root/miniconda3/envs/rl-tensorforce/lib/python3.8/site-packages/tensorforce/core/utils/tensor_spec.py?line=249'>250</a>\u001b[0m             message\u001b[39m.\u001b[39mformat(issue\u001b[39m=\u001b[39m(\u001b[39m'\u001b[39m\u001b[39mtype \u001b[39m\u001b[39m{}\u001b[39;00m\u001b[39m != \u001b[39m\u001b[39m{}\u001b[39;00m\u001b[39m'\u001b[39m\u001b[39m.\u001b[39mformat(x\u001b[39m.\u001b[39mdtype, \u001b[39mself\u001b[39m\u001b[39m.\u001b[39mtype)))\n\u001b[1;32m    <a href='file:///root/miniconda3/envs/rl-tensorforce/lib/python3.8/site-packages/tensorforce/core/utils/tensor_spec.py?line=250'>251</a>\u001b[0m         )\n\u001b[1;32m    <a href='file:///root/miniconda3/envs/rl-tensorforce/lib/python3.8/site-packages/tensorforce/core/utils/tensor_spec.py?line=251'>252</a>\u001b[0m     \u001b[39melif\u001b[39;00m x\u001b[39m.\u001b[39mshape[\u001b[39mint\u001b[39m(batched):] \u001b[39m!=\u001b[39m \u001b[39mself\u001b[39m\u001b[39m.\u001b[39mshape:\n\u001b[0;32m--> <a href='file:///root/miniconda3/envs/rl-tensorforce/lib/python3.8/site-packages/tensorforce/core/utils/tensor_spec.py?line=252'>253</a>\u001b[0m         \u001b[39mraise\u001b[39;00m TensorforceError(\n\u001b[1;32m    <a href='file:///root/miniconda3/envs/rl-tensorforce/lib/python3.8/site-packages/tensorforce/core/utils/tensor_spec.py?line=253'>254</a>\u001b[0m             message\u001b[39m.\u001b[39mformat(issue\u001b[39m=\u001b[39m(\u001b[39m'\u001b[39m\u001b[39mshape \u001b[39m\u001b[39m{}\u001b[39;00m\u001b[39m != \u001b[39m\u001b[39m{}\u001b[39;00m\u001b[39m'\u001b[39m\u001b[39m.\u001b[39mformat(x\u001b[39m.\u001b[39mshape, \u001b[39mself\u001b[39m\u001b[39m.\u001b[39mshape)))\n\u001b[1;32m    <a href='file:///root/miniconda3/envs/rl-tensorforce/lib/python3.8/site-packages/tensorforce/core/utils/tensor_spec.py?line=254'>255</a>\u001b[0m         )\n\u001b[1;32m    <a href='file:///root/miniconda3/envs/rl-tensorforce/lib/python3.8/site-packages/tensorforce/core/utils/tensor_spec.py?line=255'>256</a>\u001b[0m \u001b[39melif\u001b[39;00m batched \u001b[39mor\u001b[39;00m \u001b[39mself\u001b[39m\u001b[39m.\u001b[39mshape \u001b[39m!=\u001b[39m ():\n\u001b[1;32m    <a href='file:///root/miniconda3/envs/rl-tensorforce/lib/python3.8/site-packages/tensorforce/core/utils/tensor_spec.py?line=256'>257</a>\u001b[0m     \u001b[39mif\u001b[39;00m x\u001b[39m.\u001b[39mndim \u001b[39m>\u001b[39m\u001b[39m=\u001b[39m \u001b[39m1\u001b[39m \u001b[39mand\u001b[39;00m batched:\n",
      "\u001b[0;31mTensorforceError\u001b[0m: Environment.reset: invalid shape (3, 3, 11, 11) != (3, 11, 11) for  state."
     ]
    }
   ],
   "source": [
    "def main():\n",
    "    # Multi-actor runner, automatically if environment.num_actors() > 1\n",
    "    runner = Runner(\n",
    "        agent=agent,\n",
    "        environment=environment,\n",
    "        max_episode_timesteps=500\n",
    "    )\n",
    "    runner.run(num_episodes=1000)\n",
    "\n",
    "\n",
    "if __name__ == '__main__':\n",
    "    main()"
   ]
  },
  {
   "cell_type": "code",
   "execution_count": 4,
   "metadata": {},
   "outputs": [],
   "source": [
    "\n",
    "# kwargs = {\n",
    "#     \"l2_regularization\" :0.0,\n",
    "# }\n",
    "\n",
    "agent = Agent.create(\n",
    "    agent='ppo', environment=environment, batch_size=10, learning_rate=1e-3, #**kwargs\n",
    ")"
   ]
  },
  {
   "cell_type": "code",
   "execution_count": 21,
   "metadata": {},
   "outputs": [
    {
     "data": {
      "application/vnd.jupyter.widget-view+json": {
       "model_id": "57829b40ba9b477d8103cb02e5fc7f39",
       "version_major": 2,
       "version_minor": 0
      },
      "text/plain": [
       "Episodes:   0%|          | 0/100 [00:00, return=0.00, ts/ep=0, sec/ep=0.00, ms/ts=0.0, agent=0.0%]"
      ]
     },
     "metadata": {},
     "output_type": "display_data"
    },
    {
     "name": "stdout",
     "output_type": "stream",
     "text": [
      "1 {'type': 'float', 'shape': (3, 11, 11), 'min_value': 0.0, 'max_value': 1.0}\n",
      "2 TensorSpec(type=float, shape=(3, 11, 11), min_value=0.0, max_value=1.0)\n",
      "TensorSpec(type=float, shape=(3, 11, 11), min_value=0.0, max_value=1.0)\n"
     ]
    },
    {
     "ename": "TensorforceError",
     "evalue": "Environment.reset: invalid shape (3, 3, 11, 11) != (3, 11, 11) for  state.",
     "output_type": "error",
     "traceback": [
      "\u001b[0;31m---------------------------------------------------------------------------\u001b[0m",
      "\u001b[0;31mTensorforceError\u001b[0m                          Traceback (most recent call last)",
      "\u001b[1;32m/root/project/wall-e-robot/Jupyter Notebook/Tensorforce.ipynb Cell 7'\u001b[0m in \u001b[0;36m<cell line: 11>\u001b[0;34m()\u001b[0m\n\u001b[1;32m      <a href='vscode-notebook-cell://ssh-remote%2Byuri.chat-api.com/root/project/wall-e-robot/Jupyter%20Notebook/Tensorforce.ipynb#ch0000007vscode-remote?line=0'>1</a>\u001b[0m runner \u001b[39m=\u001b[39m Runner(\n\u001b[1;32m      <a href='vscode-notebook-cell://ssh-remote%2Byuri.chat-api.com/root/project/wall-e-robot/Jupyter%20Notebook/Tensorforce.ipynb#ch0000007vscode-remote?line=1'>2</a>\u001b[0m     agent\u001b[39m=\u001b[39magent,\n\u001b[1;32m      <a href='vscode-notebook-cell://ssh-remote%2Byuri.chat-api.com/root/project/wall-e-robot/Jupyter%20Notebook/Tensorforce.ipynb#ch0000007vscode-remote?line=2'>3</a>\u001b[0m     environment\u001b[39m=\u001b[39menvironment,\n\u001b[0;32m   (...)\u001b[0m\n\u001b[1;32m      <a href='vscode-notebook-cell://ssh-remote%2Byuri.chat-api.com/root/project/wall-e-robot/Jupyter%20Notebook/Tensorforce.ipynb#ch0000007vscode-remote?line=5'>6</a>\u001b[0m     \u001b[39m# remote='multiprocessing'\u001b[39;00m\n\u001b[1;32m      <a href='vscode-notebook-cell://ssh-remote%2Byuri.chat-api.com/root/project/wall-e-robot/Jupyter%20Notebook/Tensorforce.ipynb#ch0000007vscode-remote?line=6'>7</a>\u001b[0m )\n\u001b[1;32m      <a href='vscode-notebook-cell://ssh-remote%2Byuri.chat-api.com/root/project/wall-e-robot/Jupyter%20Notebook/Tensorforce.ipynb#ch0000007vscode-remote?line=8'>9</a>\u001b[0m \u001b[39m# runner.run(num_episodes=200)\u001b[39;00m\n\u001b[0;32m---> <a href='vscode-notebook-cell://ssh-remote%2Byuri.chat-api.com/root/project/wall-e-robot/Jupyter%20Notebook/Tensorforce.ipynb#ch0000007vscode-remote?line=10'>11</a>\u001b[0m runner\u001b[39m.\u001b[39;49mrun(num_episodes\u001b[39m=\u001b[39;49m\u001b[39m100\u001b[39;49m, evaluation\u001b[39m=\u001b[39;49m\u001b[39mTrue\u001b[39;49;00m)\n\u001b[1;32m     <a href='vscode-notebook-cell://ssh-remote%2Byuri.chat-api.com/root/project/wall-e-robot/Jupyter%20Notebook/Tensorforce.ipynb#ch0000007vscode-remote?line=12'>13</a>\u001b[0m runner\u001b[39m.\u001b[39mclose()\n",
      "File \u001b[0;32m~/miniconda3/envs/rl-tensorforce/lib/python3.8/site-packages/tensorforce/execution/runner.py:612\u001b[0m, in \u001b[0;36mRunner.run\u001b[0;34m(self, num_episodes, num_timesteps, num_updates, batch_agent_calls, sync_timesteps, sync_episodes, num_sleep_secs, callback, callback_episode_frequency, callback_timestep_frequency, use_tqdm, mean_horizon, evaluation, save_best_agent, evaluation_callback)\u001b[0m\n\u001b[1;32m    <a href='file:///root/miniconda3/envs/rl-tensorforce/lib/python3.8/site-packages/tensorforce/execution/runner.py?line=607'>608</a>\u001b[0m             \u001b[39mbreak\u001b[39;00m\n\u001b[1;32m    <a href='file:///root/miniconda3/envs/rl-tensorforce/lib/python3.8/site-packages/tensorforce/execution/runner.py?line=609'>610</a>\u001b[0m \u001b[39melse\u001b[39;00m:\n\u001b[1;32m    <a href='file:///root/miniconda3/envs/rl-tensorforce/lib/python3.8/site-packages/tensorforce/execution/runner.py?line=610'>611</a>\u001b[0m     \u001b[39m# Check whether environment is ready, otherwise continue\u001b[39;00m\n\u001b[0;32m--> <a href='file:///root/miniconda3/envs/rl-tensorforce/lib/python3.8/site-packages/tensorforce/execution/runner.py?line=611'>612</a>\u001b[0m     observation \u001b[39m=\u001b[39m \u001b[39mself\u001b[39;49m\u001b[39m.\u001b[39;49menvironments[n]\u001b[39m.\u001b[39;49mreceive_execute()\n\u001b[1;32m    <a href='file:///root/miniconda3/envs/rl-tensorforce/lib/python3.8/site-packages/tensorforce/execution/runner.py?line=612'>613</a>\u001b[0m     \u001b[39mif\u001b[39;00m observation \u001b[39mis\u001b[39;00m \u001b[39mNone\u001b[39;00m:\n\u001b[1;32m    <a href='file:///root/miniconda3/envs/rl-tensorforce/lib/python3.8/site-packages/tensorforce/execution/runner.py?line=613'>614</a>\u001b[0m         \u001b[39mself\u001b[39m\u001b[39m.\u001b[39mterminals[n] \u001b[39m=\u001b[39m \u001b[39mself\u001b[39m\u001b[39m.\u001b[39mprev_terminals[n]\n",
      "File \u001b[0;32m~/miniconda3/envs/rl-tensorforce/lib/python3.8/site-packages/tensorforce/environments/environment.py:375\u001b[0m, in \u001b[0;36mEnvironment.receive_execute\u001b[0;34m(self)\u001b[0m\n\u001b[1;32m    <a href='file:///root/miniconda3/envs/rl-tensorforce/lib/python3.8/site-packages/tensorforce/environments/environment.py?line=372'>373</a>\u001b[0m \u001b[39mself\u001b[39m\u001b[39m.\u001b[39m_expect_receive \u001b[39m=\u001b[39m \u001b[39mNone\u001b[39;00m\n\u001b[1;32m    <a href='file:///root/miniconda3/envs/rl-tensorforce/lib/python3.8/site-packages/tensorforce/environments/environment.py?line=373'>374</a>\u001b[0m \u001b[39mif\u001b[39;00m \u001b[39mself\u001b[39m\u001b[39m.\u001b[39m_num_parallel \u001b[39mis\u001b[39;00m \u001b[39mNone\u001b[39;00m:\n\u001b[0;32m--> <a href='file:///root/miniconda3/envs/rl-tensorforce/lib/python3.8/site-packages/tensorforce/environments/environment.py?line=374'>375</a>\u001b[0m     states \u001b[39m=\u001b[39m \u001b[39mself\u001b[39;49m\u001b[39m.\u001b[39;49mreset()\n\u001b[1;32m    <a href='file:///root/miniconda3/envs/rl-tensorforce/lib/python3.8/site-packages/tensorforce/environments/environment.py?line=375'>376</a>\u001b[0m \u001b[39melse\u001b[39;00m:\n\u001b[1;32m    <a href='file:///root/miniconda3/envs/rl-tensorforce/lib/python3.8/site-packages/tensorforce/environments/environment.py?line=376'>377</a>\u001b[0m     parallel, states \u001b[39m=\u001b[39m \u001b[39mself\u001b[39m\u001b[39m.\u001b[39mreset(num_parallel\u001b[39m=\u001b[39mnum_parallel)\n",
      "File \u001b[0;32m~/miniconda3/envs/rl-tensorforce/lib/python3.8/site-packages/tensorforce/environments/environment.py:520\u001b[0m, in \u001b[0;36mEnvironmentWrapper.reset\u001b[0;34m(self, num_parallel)\u001b[0m\n\u001b[1;32m    <a href='file:///root/miniconda3/envs/rl-tensorforce/lib/python3.8/site-packages/tensorforce/environments/environment.py?line=517'>518</a>\u001b[0m     parallel, states \u001b[39m=\u001b[39m \u001b[39mself\u001b[39m\u001b[39m.\u001b[39m_environment\u001b[39m.\u001b[39mreset(num_parallel\u001b[39m=\u001b[39m\u001b[39mself\u001b[39m\u001b[39m.\u001b[39m_num_parallel)\n\u001b[1;32m    <a href='file:///root/miniconda3/envs/rl-tensorforce/lib/python3.8/site-packages/tensorforce/environments/environment.py?line=518'>519</a>\u001b[0m \u001b[39mif\u001b[39;00m \u001b[39mself\u001b[39m\u001b[39m.\u001b[39m_reset_output_check:\n\u001b[0;32m--> <a href='file:///root/miniconda3/envs/rl-tensorforce/lib/python3.8/site-packages/tensorforce/environments/environment.py?line=519'>520</a>\u001b[0m     \u001b[39mself\u001b[39;49m\u001b[39m.\u001b[39;49m_check_states_output(states\u001b[39m=\u001b[39;49mstates, function\u001b[39m=\u001b[39;49m\u001b[39m'\u001b[39;49m\u001b[39mreset\u001b[39;49m\u001b[39m'\u001b[39;49m)\n\u001b[1;32m    <a href='file:///root/miniconda3/envs/rl-tensorforce/lib/python3.8/site-packages/tensorforce/environments/environment.py?line=520'>521</a>\u001b[0m     \u001b[39mif\u001b[39;00m \u001b[39mself\u001b[39m\u001b[39m.\u001b[39m_num_parallel \u001b[39mis\u001b[39;00m \u001b[39mnot\u001b[39;00m \u001b[39mNone\u001b[39;00m:\n\u001b[1;32m    <a href='file:///root/miniconda3/envs/rl-tensorforce/lib/python3.8/site-packages/tensorforce/environments/environment.py?line=521'>522</a>\u001b[0m         TensorSpec(\u001b[39mtype\u001b[39m\u001b[39m=\u001b[39m\u001b[39m'\u001b[39m\u001b[39mint\u001b[39m\u001b[39m'\u001b[39m, shape\u001b[39m=\u001b[39m(), num_values\u001b[39m=\u001b[39m\u001b[39mself\u001b[39m\u001b[39m.\u001b[39m_num_parallel)\u001b[39m.\u001b[39mnp_assert(\n\u001b[1;32m    <a href='file:///root/miniconda3/envs/rl-tensorforce/lib/python3.8/site-packages/tensorforce/environments/environment.py?line=522'>523</a>\u001b[0m             x\u001b[39m=\u001b[39mparallel, batched\u001b[39m=\u001b[39m\u001b[39mTrue\u001b[39;00m,\n\u001b[1;32m    <a href='file:///root/miniconda3/envs/rl-tensorforce/lib/python3.8/site-packages/tensorforce/environments/environment.py?line=523'>524</a>\u001b[0m             message\u001b[39m=\u001b[39m(\u001b[39m'\u001b[39m\u001b[39mEnvironment.reset: invalid \u001b[39m\u001b[39m{issue}\u001b[39;00m\u001b[39m for parallel.\u001b[39m\u001b[39m'\u001b[39m)\n\u001b[1;32m    <a href='file:///root/miniconda3/envs/rl-tensorforce/lib/python3.8/site-packages/tensorforce/environments/environment.py?line=524'>525</a>\u001b[0m         )\n",
      "File \u001b[0;32m~/miniconda3/envs/rl-tensorforce/lib/python3.8/site-packages/tensorforce/environments/environment.py:465\u001b[0m, in \u001b[0;36mEnvironment._check_states_output\u001b[0;34m(self, states, function)\u001b[0m\n\u001b[1;32m    <a href='file:///root/miniconda3/envs/rl-tensorforce/lib/python3.8/site-packages/tensorforce/environments/environment.py?line=460'>461</a>\u001b[0m \u001b[39mprint\u001b[39m(states_spec)\n\u001b[1;32m    <a href='file:///root/miniconda3/envs/rl-tensorforce/lib/python3.8/site-packages/tensorforce/environments/environment.py?line=461'>462</a>\u001b[0m \u001b[39m# print(np.array(_states).shape)\u001b[39;00m\n\u001b[1;32m    <a href='file:///root/miniconda3/envs/rl-tensorforce/lib/python3.8/site-packages/tensorforce/environments/environment.py?line=462'>463</a>\u001b[0m \u001b[39m# _states = list(_states[0])\u001b[39;00m\n\u001b[1;32m    <a href='file:///root/miniconda3/envs/rl-tensorforce/lib/python3.8/site-packages/tensorforce/environments/environment.py?line=463'>464</a>\u001b[0m \u001b[39m# print(np.array(_states).shape)\u001b[39;00m\n\u001b[0;32m--> <a href='file:///root/miniconda3/envs/rl-tensorforce/lib/python3.8/site-packages/tensorforce/environments/environment.py?line=464'>465</a>\u001b[0m states_spec\u001b[39m.\u001b[39;49mnp_assert(\n\u001b[1;32m    <a href='file:///root/miniconda3/envs/rl-tensorforce/lib/python3.8/site-packages/tensorforce/environments/environment.py?line=465'>466</a>\u001b[0m     x\u001b[39m=\u001b[39;49m_states, batched\u001b[39m=\u001b[39;49m(\u001b[39mself\u001b[39;49m\u001b[39m.\u001b[39;49m_num_parallel \u001b[39mis\u001b[39;49;00m \u001b[39mnot\u001b[39;49;00m \u001b[39mNone\u001b[39;49;00m),\n\u001b[1;32m    <a href='file:///root/miniconda3/envs/rl-tensorforce/lib/python3.8/site-packages/tensorforce/environments/environment.py?line=466'>467</a>\u001b[0m     message\u001b[39m=\u001b[39;49m(function \u001b[39m+\u001b[39;49m \u001b[39m'\u001b[39;49m\u001b[39m: invalid \u001b[39;49m\u001b[39m{issue}\u001b[39;49;00m\u001b[39m for \u001b[39;49m\u001b[39m{name}\u001b[39;49;00m\u001b[39m state.\u001b[39;49m\u001b[39m'\u001b[39;49m)\n\u001b[1;32m    <a href='file:///root/miniconda3/envs/rl-tensorforce/lib/python3.8/site-packages/tensorforce/environments/environment.py?line=467'>468</a>\u001b[0m )\n",
      "File \u001b[0;32m~/miniconda3/envs/rl-tensorforce/lib/python3.8/site-packages/tensorforce/core/utils/tensor_spec.py:253\u001b[0m, in \u001b[0;36mTensorSpec.np_assert\u001b[0;34m(self, x, message, batched)\u001b[0m\n\u001b[1;32m    <a href='file:///root/miniconda3/envs/rl-tensorforce/lib/python3.8/site-packages/tensorforce/core/utils/tensor_spec.py?line=248'>249</a>\u001b[0m         \u001b[39mraise\u001b[39;00m TensorforceError(\n\u001b[1;32m    <a href='file:///root/miniconda3/envs/rl-tensorforce/lib/python3.8/site-packages/tensorforce/core/utils/tensor_spec.py?line=249'>250</a>\u001b[0m             message\u001b[39m.\u001b[39mformat(issue\u001b[39m=\u001b[39m(\u001b[39m'\u001b[39m\u001b[39mtype \u001b[39m\u001b[39m{}\u001b[39;00m\u001b[39m != \u001b[39m\u001b[39m{}\u001b[39;00m\u001b[39m'\u001b[39m\u001b[39m.\u001b[39mformat(x\u001b[39m.\u001b[39mdtype, \u001b[39mself\u001b[39m\u001b[39m.\u001b[39mtype)))\n\u001b[1;32m    <a href='file:///root/miniconda3/envs/rl-tensorforce/lib/python3.8/site-packages/tensorforce/core/utils/tensor_spec.py?line=250'>251</a>\u001b[0m         )\n\u001b[1;32m    <a href='file:///root/miniconda3/envs/rl-tensorforce/lib/python3.8/site-packages/tensorforce/core/utils/tensor_spec.py?line=251'>252</a>\u001b[0m     \u001b[39melif\u001b[39;00m x\u001b[39m.\u001b[39mshape[\u001b[39mint\u001b[39m(batched):] \u001b[39m!=\u001b[39m \u001b[39mself\u001b[39m\u001b[39m.\u001b[39mshape:\n\u001b[0;32m--> <a href='file:///root/miniconda3/envs/rl-tensorforce/lib/python3.8/site-packages/tensorforce/core/utils/tensor_spec.py?line=252'>253</a>\u001b[0m         \u001b[39mraise\u001b[39;00m TensorforceError(\n\u001b[1;32m    <a href='file:///root/miniconda3/envs/rl-tensorforce/lib/python3.8/site-packages/tensorforce/core/utils/tensor_spec.py?line=253'>254</a>\u001b[0m             message\u001b[39m.\u001b[39mformat(issue\u001b[39m=\u001b[39m(\u001b[39m'\u001b[39m\u001b[39mshape \u001b[39m\u001b[39m{}\u001b[39;00m\u001b[39m != \u001b[39m\u001b[39m{}\u001b[39;00m\u001b[39m'\u001b[39m\u001b[39m.\u001b[39mformat(x\u001b[39m.\u001b[39mshape, \u001b[39mself\u001b[39m\u001b[39m.\u001b[39mshape)))\n\u001b[1;32m    <a href='file:///root/miniconda3/envs/rl-tensorforce/lib/python3.8/site-packages/tensorforce/core/utils/tensor_spec.py?line=254'>255</a>\u001b[0m         )\n\u001b[1;32m    <a href='file:///root/miniconda3/envs/rl-tensorforce/lib/python3.8/site-packages/tensorforce/core/utils/tensor_spec.py?line=255'>256</a>\u001b[0m \u001b[39melif\u001b[39;00m batched \u001b[39mor\u001b[39;00m \u001b[39mself\u001b[39m\u001b[39m.\u001b[39mshape \u001b[39m!=\u001b[39m ():\n\u001b[1;32m    <a href='file:///root/miniconda3/envs/rl-tensorforce/lib/python3.8/site-packages/tensorforce/core/utils/tensor_spec.py?line=256'>257</a>\u001b[0m     \u001b[39mif\u001b[39;00m x\u001b[39m.\u001b[39mndim \u001b[39m>\u001b[39m\u001b[39m=\u001b[39m \u001b[39m1\u001b[39m \u001b[39mand\u001b[39;00m batched:\n",
      "\u001b[0;31mTensorforceError\u001b[0m: Environment.reset: invalid shape (3, 3, 11, 11) != (3, 11, 11) for  state."
     ]
    }
   ],
   "source": [
    "runner = Runner(\n",
    "    agent=agent,\n",
    "    environment=environment,\n",
    "    max_episode_timesteps=500,\n",
    "    # num_parallel=5, \n",
    "    # remote='multiprocessing'\n",
    ")\n",
    "\n",
    "# runner.run(num_episodes=200)\n",
    "\n",
    "runner.run(num_episodes=100, evaluation=True)\n",
    "\n",
    "runner.close()"
   ]
  },
  {
   "cell_type": "code",
   "execution_count": 7,
   "metadata": {},
   "outputs": [
    {
     "name": "stdout",
     "output_type": "stream",
     "text": [
      "1 {'type': 'float', 'shape': (3, 11, 11), 'min_value': 0.0, 'max_value': 1.0}\n",
      "2 TensorSpec(type=float, shape=(3, 11, 11), min_value=0.0, max_value=1.0)\n",
      "TensorSpec(type=float, shape=(3, 11, 11), min_value=0.0, max_value=1.0)\n"
     ]
    },
    {
     "ename": "TensorforceError",
     "evalue": "Environment.reset: invalid shape (1, 3, 11, 11) != (3, 11, 11) for  state.",
     "output_type": "error",
     "traceback": [
      "\u001b[0;31m---------------------------------------------------------------------------\u001b[0m",
      "\u001b[0;31mTensorforceError\u001b[0m                          Traceback (most recent call last)",
      "\u001b[1;32m/root/project/wall-e-robot/Jupyter Notebook/Tensorforce.ipynb Cell 7'\u001b[0m in \u001b[0;36m<cell line: 2>\u001b[0;34m()\u001b[0m\n\u001b[1;32m      <a href='vscode-notebook-cell://ssh-remote%2Byuri.chat-api.com/root/project/wall-e-robot/Jupyter%20Notebook/Tensorforce.ipynb#ch0000009vscode-remote?line=0'>1</a>\u001b[0m \u001b[39m# Train for 100 episodes\u001b[39;00m\n\u001b[1;32m      <a href='vscode-notebook-cell://ssh-remote%2Byuri.chat-api.com/root/project/wall-e-robot/Jupyter%20Notebook/Tensorforce.ipynb#ch0000009vscode-remote?line=1'>2</a>\u001b[0m \u001b[39mfor\u001b[39;00m _ \u001b[39min\u001b[39;00m \u001b[39mrange\u001b[39m(\u001b[39m100\u001b[39m):\n\u001b[0;32m----> <a href='vscode-notebook-cell://ssh-remote%2Byuri.chat-api.com/root/project/wall-e-robot/Jupyter%20Notebook/Tensorforce.ipynb#ch0000009vscode-remote?line=2'>3</a>\u001b[0m     states \u001b[39m=\u001b[39m environment\u001b[39m.\u001b[39;49mreset()\n\u001b[1;32m      <a href='vscode-notebook-cell://ssh-remote%2Byuri.chat-api.com/root/project/wall-e-robot/Jupyter%20Notebook/Tensorforce.ipynb#ch0000009vscode-remote?line=3'>4</a>\u001b[0m     terminal \u001b[39m=\u001b[39m \u001b[39mFalse\u001b[39;00m\n\u001b[1;32m      <a href='vscode-notebook-cell://ssh-remote%2Byuri.chat-api.com/root/project/wall-e-robot/Jupyter%20Notebook/Tensorforce.ipynb#ch0000009vscode-remote?line=4'>5</a>\u001b[0m     \u001b[39mwhile\u001b[39;00m \u001b[39mnot\u001b[39;00m terminal:\n",
      "File \u001b[0;32m~/miniconda3/envs/rl-tensorforce/lib/python3.8/site-packages/tensorforce/environments/environment.py:520\u001b[0m, in \u001b[0;36mEnvironmentWrapper.reset\u001b[0;34m(self, num_parallel)\u001b[0m\n\u001b[1;32m    <a href='file:///root/miniconda3/envs/rl-tensorforce/lib/python3.8/site-packages/tensorforce/environments/environment.py?line=517'>518</a>\u001b[0m     parallel, states \u001b[39m=\u001b[39m \u001b[39mself\u001b[39m\u001b[39m.\u001b[39m_environment\u001b[39m.\u001b[39mreset(num_parallel\u001b[39m=\u001b[39m\u001b[39mself\u001b[39m\u001b[39m.\u001b[39m_num_parallel)\n\u001b[1;32m    <a href='file:///root/miniconda3/envs/rl-tensorforce/lib/python3.8/site-packages/tensorforce/environments/environment.py?line=518'>519</a>\u001b[0m \u001b[39mif\u001b[39;00m \u001b[39mself\u001b[39m\u001b[39m.\u001b[39m_reset_output_check:\n\u001b[0;32m--> <a href='file:///root/miniconda3/envs/rl-tensorforce/lib/python3.8/site-packages/tensorforce/environments/environment.py?line=519'>520</a>\u001b[0m     \u001b[39mself\u001b[39;49m\u001b[39m.\u001b[39;49m_check_states_output(states\u001b[39m=\u001b[39;49mstates, function\u001b[39m=\u001b[39;49m\u001b[39m'\u001b[39;49m\u001b[39mreset\u001b[39;49m\u001b[39m'\u001b[39;49m)\n\u001b[1;32m    <a href='file:///root/miniconda3/envs/rl-tensorforce/lib/python3.8/site-packages/tensorforce/environments/environment.py?line=520'>521</a>\u001b[0m     \u001b[39mif\u001b[39;00m \u001b[39mself\u001b[39m\u001b[39m.\u001b[39m_num_parallel \u001b[39mis\u001b[39;00m \u001b[39mnot\u001b[39;00m \u001b[39mNone\u001b[39;00m:\n\u001b[1;32m    <a href='file:///root/miniconda3/envs/rl-tensorforce/lib/python3.8/site-packages/tensorforce/environments/environment.py?line=521'>522</a>\u001b[0m         TensorSpec(\u001b[39mtype\u001b[39m\u001b[39m=\u001b[39m\u001b[39m'\u001b[39m\u001b[39mint\u001b[39m\u001b[39m'\u001b[39m, shape\u001b[39m=\u001b[39m(), num_values\u001b[39m=\u001b[39m\u001b[39mself\u001b[39m\u001b[39m.\u001b[39m_num_parallel)\u001b[39m.\u001b[39mnp_assert(\n\u001b[1;32m    <a href='file:///root/miniconda3/envs/rl-tensorforce/lib/python3.8/site-packages/tensorforce/environments/environment.py?line=522'>523</a>\u001b[0m             x\u001b[39m=\u001b[39mparallel, batched\u001b[39m=\u001b[39m\u001b[39mTrue\u001b[39;00m,\n\u001b[1;32m    <a href='file:///root/miniconda3/envs/rl-tensorforce/lib/python3.8/site-packages/tensorforce/environments/environment.py?line=523'>524</a>\u001b[0m             message\u001b[39m=\u001b[39m(\u001b[39m'\u001b[39m\u001b[39mEnvironment.reset: invalid \u001b[39m\u001b[39m{issue}\u001b[39;00m\u001b[39m for parallel.\u001b[39m\u001b[39m'\u001b[39m)\n\u001b[1;32m    <a href='file:///root/miniconda3/envs/rl-tensorforce/lib/python3.8/site-packages/tensorforce/environments/environment.py?line=524'>525</a>\u001b[0m         )\n",
      "File \u001b[0;32m~/miniconda3/envs/rl-tensorforce/lib/python3.8/site-packages/tensorforce/environments/environment.py:465\u001b[0m, in \u001b[0;36mEnvironment._check_states_output\u001b[0;34m(self, states, function)\u001b[0m\n\u001b[1;32m    <a href='file:///root/miniconda3/envs/rl-tensorforce/lib/python3.8/site-packages/tensorforce/environments/environment.py?line=460'>461</a>\u001b[0m \u001b[39mprint\u001b[39m(states_spec)\n\u001b[1;32m    <a href='file:///root/miniconda3/envs/rl-tensorforce/lib/python3.8/site-packages/tensorforce/environments/environment.py?line=461'>462</a>\u001b[0m \u001b[39m# print(np.array(_states).shape)\u001b[39;00m\n\u001b[1;32m    <a href='file:///root/miniconda3/envs/rl-tensorforce/lib/python3.8/site-packages/tensorforce/environments/environment.py?line=462'>463</a>\u001b[0m \u001b[39m# _states = list(_states[0])\u001b[39;00m\n\u001b[1;32m    <a href='file:///root/miniconda3/envs/rl-tensorforce/lib/python3.8/site-packages/tensorforce/environments/environment.py?line=463'>464</a>\u001b[0m \u001b[39m# print(np.array(_states).shape)\u001b[39;00m\n\u001b[0;32m--> <a href='file:///root/miniconda3/envs/rl-tensorforce/lib/python3.8/site-packages/tensorforce/environments/environment.py?line=464'>465</a>\u001b[0m states_spec\u001b[39m.\u001b[39;49mnp_assert(\n\u001b[1;32m    <a href='file:///root/miniconda3/envs/rl-tensorforce/lib/python3.8/site-packages/tensorforce/environments/environment.py?line=465'>466</a>\u001b[0m     x\u001b[39m=\u001b[39;49m_states, batched\u001b[39m=\u001b[39;49m(\u001b[39mself\u001b[39;49m\u001b[39m.\u001b[39;49m_num_parallel \u001b[39mis\u001b[39;49;00m \u001b[39mnot\u001b[39;49;00m \u001b[39mNone\u001b[39;49;00m),\n\u001b[1;32m    <a href='file:///root/miniconda3/envs/rl-tensorforce/lib/python3.8/site-packages/tensorforce/environments/environment.py?line=466'>467</a>\u001b[0m     message\u001b[39m=\u001b[39;49m(function \u001b[39m+\u001b[39;49m \u001b[39m'\u001b[39;49m\u001b[39m: invalid \u001b[39;49m\u001b[39m{issue}\u001b[39;49;00m\u001b[39m for \u001b[39;49m\u001b[39m{name}\u001b[39;49;00m\u001b[39m state.\u001b[39;49m\u001b[39m'\u001b[39;49m)\n\u001b[1;32m    <a href='file:///root/miniconda3/envs/rl-tensorforce/lib/python3.8/site-packages/tensorforce/environments/environment.py?line=467'>468</a>\u001b[0m )\n",
      "File \u001b[0;32m~/miniconda3/envs/rl-tensorforce/lib/python3.8/site-packages/tensorforce/core/utils/tensor_spec.py:253\u001b[0m, in \u001b[0;36mTensorSpec.np_assert\u001b[0;34m(self, x, message, batched)\u001b[0m\n\u001b[1;32m    <a href='file:///root/miniconda3/envs/rl-tensorforce/lib/python3.8/site-packages/tensorforce/core/utils/tensor_spec.py?line=248'>249</a>\u001b[0m         \u001b[39mraise\u001b[39;00m TensorforceError(\n\u001b[1;32m    <a href='file:///root/miniconda3/envs/rl-tensorforce/lib/python3.8/site-packages/tensorforce/core/utils/tensor_spec.py?line=249'>250</a>\u001b[0m             message\u001b[39m.\u001b[39mformat(issue\u001b[39m=\u001b[39m(\u001b[39m'\u001b[39m\u001b[39mtype \u001b[39m\u001b[39m{}\u001b[39;00m\u001b[39m != \u001b[39m\u001b[39m{}\u001b[39;00m\u001b[39m'\u001b[39m\u001b[39m.\u001b[39mformat(x\u001b[39m.\u001b[39mdtype, \u001b[39mself\u001b[39m\u001b[39m.\u001b[39mtype)))\n\u001b[1;32m    <a href='file:///root/miniconda3/envs/rl-tensorforce/lib/python3.8/site-packages/tensorforce/core/utils/tensor_spec.py?line=250'>251</a>\u001b[0m         )\n\u001b[1;32m    <a href='file:///root/miniconda3/envs/rl-tensorforce/lib/python3.8/site-packages/tensorforce/core/utils/tensor_spec.py?line=251'>252</a>\u001b[0m     \u001b[39melif\u001b[39;00m x\u001b[39m.\u001b[39mshape[\u001b[39mint\u001b[39m(batched):] \u001b[39m!=\u001b[39m \u001b[39mself\u001b[39m\u001b[39m.\u001b[39mshape:\n\u001b[0;32m--> <a href='file:///root/miniconda3/envs/rl-tensorforce/lib/python3.8/site-packages/tensorforce/core/utils/tensor_spec.py?line=252'>253</a>\u001b[0m         \u001b[39mraise\u001b[39;00m TensorforceError(\n\u001b[1;32m    <a href='file:///root/miniconda3/envs/rl-tensorforce/lib/python3.8/site-packages/tensorforce/core/utils/tensor_spec.py?line=253'>254</a>\u001b[0m             message\u001b[39m.\u001b[39mformat(issue\u001b[39m=\u001b[39m(\u001b[39m'\u001b[39m\u001b[39mshape \u001b[39m\u001b[39m{}\u001b[39;00m\u001b[39m != \u001b[39m\u001b[39m{}\u001b[39;00m\u001b[39m'\u001b[39m\u001b[39m.\u001b[39mformat(x\u001b[39m.\u001b[39mshape, \u001b[39mself\u001b[39m\u001b[39m.\u001b[39mshape)))\n\u001b[1;32m    <a href='file:///root/miniconda3/envs/rl-tensorforce/lib/python3.8/site-packages/tensorforce/core/utils/tensor_spec.py?line=254'>255</a>\u001b[0m         )\n\u001b[1;32m    <a href='file:///root/miniconda3/envs/rl-tensorforce/lib/python3.8/site-packages/tensorforce/core/utils/tensor_spec.py?line=255'>256</a>\u001b[0m \u001b[39melif\u001b[39;00m batched \u001b[39mor\u001b[39;00m \u001b[39mself\u001b[39m\u001b[39m.\u001b[39mshape \u001b[39m!=\u001b[39m ():\n\u001b[1;32m    <a href='file:///root/miniconda3/envs/rl-tensorforce/lib/python3.8/site-packages/tensorforce/core/utils/tensor_spec.py?line=256'>257</a>\u001b[0m     \u001b[39mif\u001b[39;00m x\u001b[39m.\u001b[39mndim \u001b[39m>\u001b[39m\u001b[39m=\u001b[39m \u001b[39m1\u001b[39m \u001b[39mand\u001b[39;00m batched:\n",
      "\u001b[0;31mTensorforceError\u001b[0m: Environment.reset: invalid shape (1, 3, 11, 11) != (3, 11, 11) for  state."
     ]
    }
   ],
   "source": [
    "\n",
    "# Train for 100 episodes\n",
    "for _ in range(100):\n",
    "    states = environment.reset()\n",
    "    terminal = False\n",
    "    while not terminal:\n",
    "        actions = agent.act(states=states)\n",
    "        states, terminal, reward = environment.execute(actions=actions)\n",
    "        agent.observe(terminal=terminal, reward=reward)"
   ]
  },
  {
   "cell_type": "code",
   "execution_count": null,
   "metadata": {},
   "outputs": [],
   "source": [
    "# Эта либа позволяет работать только с одним агентом в среде!!! \n",
    "\n",
    "\n",
    "\n",
    "# https://github.com/tensorforce/tensorforce/issues/371 возможно решение"
   ]
  },
  {
   "cell_type": "code",
   "execution_count": null,
   "metadata": {},
   "outputs": [],
   "source": []
  },
  {
   "cell_type": "code",
   "execution_count": null,
   "metadata": {},
   "outputs": [],
   "source": []
  }
 ],
 "metadata": {
  "interpreter": {
   "hash": "bb489005059915a9faeaaebe93cfc08f055fd0464305322e9f7a3d7b96a27ad4"
  },
  "kernelspec": {
   "display_name": "Python 3.8.13 ('rl-tensorforce')",
   "language": "python",
   "name": "python3"
  },
  "language_info": {
   "codemirror_mode": {
    "name": "ipython",
    "version": 3
   },
   "file_extension": ".py",
   "mimetype": "text/x-python",
   "name": "python",
   "nbconvert_exporter": "python",
   "pygments_lexer": "ipython3",
   "version": "3.8.13"
  },
  "orig_nbformat": 4
 },
 "nbformat": 4,
 "nbformat_minor": 2
}
